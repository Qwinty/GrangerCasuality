{
 "cells": [
  {
   "cell_type": "markdown",
   "metadata": {},
   "source": [
    "# Анализ причинно-следственных связей по Грейнджеру: Температура и Демография/ДТП в Москве\n",
    "\n",
    "Этот ноутбук реализует пайплайн для анализа причинно-следственных связей между временными рядами температуры и выбранным вторичным показателем (смертность или ДТП) для Москвы, используя тест Грейнджера."
   ]
  },
  {
   "cell_type": "markdown",
   "metadata": {},
   "source": [
    "## 1. Инициализация и Загрузка Библиотек"
   ]
  },
  {
   "cell_type": "code",
   "execution_count": 2,
   "metadata": {},
   "outputs": [
    {
     "name": "stdout",
     "output_type": "stream",
     "text": [
      "Ноутбук в 'src'. Добавили '..' в sys.path.\n",
      "Библиотеки и модули успешно импортированы.\n"
     ]
    }
   ],
   "source": [
    "import sys\n",
    "import os\n",
    "import warnings\n",
    "\n",
    "# Добавляем директорию src в путь Python\n",
    "# Это необходимо, чтобы импортировать наши модули\n",
    "if os.path.basename(os.getcwd()) != 'src':\n",
    "    # Если ноутбук запускается из корня проекта\n",
    "    if os.path.exists('src'):\n",
    "        sys.path.append('src')\n",
    "        print(f\"Добавили 'src' в sys.path. Текущая директория: {os.getcwd()}\")\n",
    "    else:\n",
    "        # Попытка подняться на уровень выше, если мы внутри src\n",
    "        if os.path.exists('../src'):\n",
    "             sys.path.append('..')\n",
    "             print(f\"Добавили '..' в sys.path. Текущая директория: {os.getcwd()}\")\n",
    "        else:\n",
    "             print(\"Не удалось найти директорию 'src'. Убедитесь, что ноутбук находится в корне проекта или в 'src'.\")\n",
    "else:\n",
    "    # Если ноутбук уже в src, добавляем родительскую директорию для доступа к data\n",
    "    sys.path.append('..')\n",
    "    print(f\"Ноутбук в 'src'. Добавили '..' в sys.path.\")\n",
    "\n",
    "# Импорт необходимых библиотек\n",
    "import pandas as pd\n",
    "import numpy as np\n",
    "import matplotlib.pyplot as plt\n",
    "import seaborn as sns\n",
    "from IPython.display import display, Markdown # Для красивого вывода в Jupyter\n",
    "\n",
    "# Импорт модулей проекта\n",
    "import config\n",
    "from data_processing import loader, cleaner, merger\n",
    "from analysis import stationarity, var_model, granger\n",
    "from visualization import time_series, diagnostics\n",
    "from utils import logger, helpers\n",
    "\n",
    "# Настройки отображения\n",
    "pd.set_option('display.max_rows', 100)\n",
    "pd.set_option('display.max_columns', 50)\n",
    "warnings.filterwarnings('ignore') # Подавляем предупреждения для чистоты вывода\n",
    "\n",
    "# Настройка стиля графиков (из config)\n",
    "try:\n",
    "    plt.style.use(config.PLOT_STYLE)\n",
    "except Exception as e:\n",
    "    print(f\"Не удалось применить стиль графиков из config: {e}. Используется стиль по умолчанию.\")\n",
    "\n",
    "# Настройка логирования (опционально для ноутбука)\n",
    "# log = logger.setup_logger(use_file=False) # Вывод только в консоль\n",
    "# log.info(\"Запуск анализа в Jupyter Notebook\")\n",
    "print(\"Библиотеки и модули успешно импортированы.\")"
   ]
  },
  {
   "cell_type": "markdown",
   "metadata": {},
   "source": [
    "## 2. Загрузка Конфигурации\n",
    "\n",
    "Загружаем и отображаем основные параметры анализа из файла `config.py`."
   ]
  },
  {
   "cell_type": "code",
   "execution_count": 3,
   "metadata": {},
   "outputs": [
    {
     "data": {
      "text/markdown": [
       "### Параметры Анализа:"
      ],
      "text/plain": [
       "<IPython.core.display.Markdown object>"
      ]
     },
     "metadata": {},
     "output_type": "display_data"
    },
    {
     "name": "stdout",
     "output_type": "stream",
     "text": [
      "Файл данных температуры: ../data/Moscow_Temp (2010-2024).csv\n",
      "Файл вторичных данных: ../data/Moscow/moscow_mortality.csv\n",
      "Название вторичных данных: Mortality\n",
      "Формат даты для агрегации: %Y-%m\n",
      "Метод нормализации (Температура): z-score\n",
      "Метод нормализации (Вторичные данные): log\n",
      "Агрегация (Температура): mean\n",
      "Агрегация (Вторичные данные): sum\n",
      "Максимальный порядок дифференцирования: 2\n",
      "Максимальный лаг для VAR: 12\n",
      "Критерии выбора лага: ['aic', 'bic']\n",
      "Уровень значимости (ADF): 0.05\n",
      "Уровень значимости (KPSS): 0.05\n",
      "Уровень значимости (Granger): 0.05\n",
      "Интерактивные графики: False\n"
     ]
    }
   ],
   "source": [
    "display(Markdown(\"### Параметры Анализа:\"))\n",
    "print(f\"Файл данных температуры: {config.TEMP_DATA_PATH}\")\n",
    "print(f\"Файл вторичных данных: {config.SECONDARY_DATA_PATH}\")\n",
    "print(f\"Название вторичных данных: {config.SECONDARY_DATA_NAME}\")\n",
    "print(f\"Формат даты для агрегации: {config.DATE_FORMAT}\")\n",
    "print(f\"Метод нормализации (Температура): {config.NORMALIZATION_METHOD_TEMP}\")\n",
    "print(f\"Метод нормализации (Вторичные данные): {config.NORMALIZATION_METHOD_SECONDARY}\")\n",
    "print(f\"Агрегация (Температура): {config.AGGREGATION_TEMP}\")\n",
    "print(f\"Агрегация (Вторичные данные): {config.AGGREGATION_SECONDARY}\")\n",
    "print(f\"Максимальный порядок дифференцирования: {config.MAX_DIFFERENCING_ORDER}\")\n",
    "print(f\"Максимальный лаг для VAR: {config.MAX_LAG_ORDER}\")\n",
    "print(f\"Критерии выбора лага: {config.LAG_SELECTION_CRITERIA}\")\n",
    "print(f\"Уровень значимости (ADF): {config.ADF_SIGNIFICANCE_LEVEL}\")\n",
    "print(f\"Уровень значимости (KPSS): {config.KPSS_SIGNIFICANCE_LEVEL}\")\n",
    "print(f\"Уровень значимости (Granger): {config.GRANGER_SIGNIFICANCE_LEVEL}\")\n",
    "print(f\"Интерактивные графики: {config.INTERACTIVE_PLOTS}\")"
   ]
  },
  {
   "cell_type": "markdown",
   "metadata": {},
   "source": [
    "## 3. Загрузка Данных\n",
    "\n",
    "Загружаем исходные временные ряды температуры и выбранного вторичного показателя."
   ]
  },
  {
   "cell_type": "code",
   "execution_count": 4,
   "metadata": {},
   "outputs": [
    {
     "name": "stdout",
     "output_type": "stream",
     "text": [
      "Loading temperature data from: ../data/Moscow_Temp (2010-2024).csv\n",
      "Temperature data loaded successfully.\n",
      "Loading secondary data from: ../data/Moscow/moscow_mortality.csv\n",
      "Mortality data loaded successfully.\n"
     ]
    },
    {
     "data": {
      "text/markdown": [
       "### Исходные данные температуры (первые 5 строк):"
      ],
      "text/plain": [
       "<IPython.core.display.Markdown object>"
      ]
     },
     "metadata": {},
     "output_type": "display_data"
    },
    {
     "data": {
      "text/html": [
       "<div>\n",
       "<style scoped>\n",
       "    .dataframe tbody tr th:only-of-type {\n",
       "        vertical-align: middle;\n",
       "    }\n",
       "\n",
       "    .dataframe tbody tr th {\n",
       "        vertical-align: top;\n",
       "    }\n",
       "\n",
       "    .dataframe thead th {\n",
       "        text-align: right;\n",
       "    }\n",
       "</style>\n",
       "<table border=\"1\" class=\"dataframe\">\n",
       "  <thead>\n",
       "    <tr style=\"text-align: right;\">\n",
       "      <th></th>\n",
       "      <th>Date</th>\n",
       "      <th>Temperature</th>\n",
       "      <th>Precipitation</th>\n",
       "    </tr>\n",
       "  </thead>\n",
       "  <tbody>\n",
       "    <tr>\n",
       "      <th>0</th>\n",
       "      <td>2010-01-01</td>\n",
       "      <td>-9.6</td>\n",
       "      <td>0.2</td>\n",
       "    </tr>\n",
       "    <tr>\n",
       "      <th>1</th>\n",
       "      <td>2010-01-02</td>\n",
       "      <td>-13.2</td>\n",
       "      <td>0.0</td>\n",
       "    </tr>\n",
       "    <tr>\n",
       "      <th>2</th>\n",
       "      <td>2010-01-03</td>\n",
       "      <td>-17.2</td>\n",
       "      <td>0.0</td>\n",
       "    </tr>\n",
       "    <tr>\n",
       "      <th>3</th>\n",
       "      <td>2010-01-04</td>\n",
       "      <td>-18.0</td>\n",
       "      <td>0.2</td>\n",
       "    </tr>\n",
       "    <tr>\n",
       "      <th>4</th>\n",
       "      <td>2010-01-05</td>\n",
       "      <td>-11.9</td>\n",
       "      <td>0.0</td>\n",
       "    </tr>\n",
       "  </tbody>\n",
       "</table>\n",
       "</div>"
      ],
      "text/plain": [
       "        Date  Temperature  Precipitation\n",
       "0 2010-01-01         -9.6            0.2\n",
       "1 2010-01-02        -13.2            0.0\n",
       "2 2010-01-03        -17.2            0.0\n",
       "3 2010-01-04        -18.0            0.2\n",
       "4 2010-01-05        -11.9            0.0"
      ]
     },
     "metadata": {},
     "output_type": "display_data"
    },
    {
     "name": "stdout",
     "output_type": "stream",
     "text": [
      "<class 'pandas.core.frame.DataFrame'>\n",
      "RangeIndex: 5387 entries, 0 to 5386\n",
      "Data columns (total 3 columns):\n",
      " #   Column         Non-Null Count  Dtype         \n",
      "---  ------         --------------  -----         \n",
      " 0   Date           5387 non-null   datetime64[ns]\n",
      " 1   Temperature    5387 non-null   float64       \n",
      " 2   Precipitation  5387 non-null   float64       \n",
      "dtypes: datetime64[ns](1), float64(2)\n",
      "memory usage: 126.4 KB\n"
     ]
    },
    {
     "data": {
      "text/markdown": [
       "### Исходные данные 'Mortality' (первые 5 строк):"
      ],
      "text/plain": [
       "<IPython.core.display.Markdown object>"
      ]
     },
     "metadata": {},
     "output_type": "display_data"
    },
    {
     "data": {
      "text/html": [
       "<div>\n",
       "<style scoped>\n",
       "    .dataframe tbody tr th:only-of-type {\n",
       "        vertical-align: middle;\n",
       "    }\n",
       "\n",
       "    .dataframe tbody tr th {\n",
       "        vertical-align: top;\n",
       "    }\n",
       "\n",
       "    .dataframe thead th {\n",
       "        text-align: right;\n",
       "    }\n",
       "</style>\n",
       "<table border=\"1\" class=\"dataframe\">\n",
       "  <thead>\n",
       "    <tr style=\"text-align: right;\">\n",
       "      <th></th>\n",
       "      <th>Date</th>\n",
       "      <th>Mortality</th>\n",
       "    </tr>\n",
       "  </thead>\n",
       "  <tbody>\n",
       "    <tr>\n",
       "      <th>0</th>\n",
       "      <td>2010-01-01</td>\n",
       "      <td>10430</td>\n",
       "    </tr>\n",
       "    <tr>\n",
       "      <th>1</th>\n",
       "      <td>2010-02-01</td>\n",
       "      <td>9573</td>\n",
       "    </tr>\n",
       "    <tr>\n",
       "      <th>2</th>\n",
       "      <td>2010-03-01</td>\n",
       "      <td>10528</td>\n",
       "    </tr>\n",
       "    <tr>\n",
       "      <th>3</th>\n",
       "      <td>2010-04-01</td>\n",
       "      <td>9501</td>\n",
       "    </tr>\n",
       "    <tr>\n",
       "      <th>4</th>\n",
       "      <td>2010-05-01</td>\n",
       "      <td>9482</td>\n",
       "    </tr>\n",
       "  </tbody>\n",
       "</table>\n",
       "</div>"
      ],
      "text/plain": [
       "        Date  Mortality\n",
       "0 2010-01-01      10430\n",
       "1 2010-02-01       9573\n",
       "2 2010-03-01      10528\n",
       "3 2010-04-01       9501\n",
       "4 2010-05-01       9482"
      ]
     },
     "metadata": {},
     "output_type": "display_data"
    },
    {
     "name": "stdout",
     "output_type": "stream",
     "text": [
      "<class 'pandas.core.frame.DataFrame'>\n",
      "RangeIndex: 124 entries, 0 to 123\n",
      "Data columns (total 2 columns):\n",
      " #   Column     Non-Null Count  Dtype         \n",
      "---  ------     --------------  -----         \n",
      " 0   Date       124 non-null    datetime64[ns]\n",
      " 1   Mortality  124 non-null    int64         \n",
      "dtypes: datetime64[ns](1), int64(1)\n",
      "memory usage: 2.1 KB\n"
     ]
    }
   ],
   "source": [
    "try:\n",
    "    df_temp_raw, df_secondary_raw = loader.load_all_data(config.TEMP_DATA_PATH, config.SECONDARY_DATA_PATH)\n",
    "\n",
    "    display(Markdown(\"### Исходные данные температуры (первые 5 строк):\"))\n",
    "    display(df_temp_raw.head())\n",
    "    df_temp_raw.info()\n",
    "\n",
    "    display(Markdown(f\"### Исходные данные '{config.SECONDARY_DATA_NAME}' (первые 5 строк):\"))\n",
    "    display(df_secondary_raw.head())\n",
    "    df_secondary_raw.info()\n",
    "\n",
    "except Exception as e:\n",
    "    print(f\"Ошибка при загрузке данных: {e}\")\n",
    "    # Прерываем выполнение или обрабатываем ошибку\n",
    "    raise"
   ]
  },
  {
   "cell_type": "markdown",
   "metadata": {},
   "source": [
    "## 4. Предобработка Данных\n",
    "\n",
    "Выполняем шаги предобработки:\n",
    "1.  **Унификация временных меток:** Приведение дат к формату `YYYY-MM` и установка в качестве индекса.\n",
    "2.  **Агрегация:** Расчет среднемесячной температуры и суммарных/средних значений для вторичного показателя.\n",
    "3.  **Нормализация:** Применение Z-score стандартизации или логарифмирования."
   ]
  },
  {
   "cell_type": "markdown",
   "metadata": {},
   "source": [
    "### 4.1 Обработка данных температуры"
   ]
  },
  {
   "cell_type": "code",
   "execution_count": 13,
   "metadata": {},
   "outputs": [
    {
     "name": "stdout",
     "output_type": "stream",
     "text": [
      "Unifying timestamps for column: Date\n",
      "Timestamps unified and set as index.\n",
      "Обнаружены дубликаты в индексе (5210 штук). Агрегируем их...\n",
      "Дубликаты в индексе агрегированы.\n",
      "Aggregating column 'Temperature' monthly using 'mean'\n",
      "Error during aggregation: 'PeriodIndex' object has no attribute 'to_period'\n",
      "Normalizing series using method: z-score\n"
     ]
    },
    {
     "data": {
      "text/markdown": [
       "#### Обработанные данные температуры (первые 5 строк):"
      ],
      "text/plain": [
       "<IPython.core.display.Markdown object>"
      ]
     },
     "metadata": {},
     "output_type": "display_data"
    },
    {
     "data": {
      "text/plain": [
       "Series([], Name: Temperature_Norm, dtype: float64)"
      ]
     },
     "metadata": {},
     "output_type": "display_data"
    },
    {
     "name": "stdout",
     "output_type": "stream",
     "text": [
      "\n",
      "Количество записей: 0\n"
     ]
    }
   ],
   "source": [
    "# Важно: Укажите правильные имена колонок из ваших файлов!\n",
    "# Имена колонок после обработки в loader.py\n",
    "TEMP_DATE_COL = 'Date' \n",
    "TEMP_VALUE_COL = 'Temperature' \n",
    "\n",
    "try:\n",
    "    # Шаг 1: Унификация временных меток\n",
    "    # Убедитесь, что колонка TEMP_DATE_COL существует и содержит корректные даты\n",
    "    df_temp_processed = cleaner.unify_timestamps(df_temp_raw.copy(), date_col=TEMP_DATE_COL, target_format=config.DATE_FORMAT)\n",
    "\n",
    "    # Проверим, есть ли дубликаты в индексе\n",
    "    if df_temp_processed.index.has_duplicates:\n",
    "        print(f\"Обнаружены дубликаты в индексе ({df_temp_processed.index.duplicated().sum()} штук). Агрегируем их...\")\n",
    "        # Группируем по индексу (по дате) и применяем агрегацию (например, 'mean')\n",
    "        # Это создаст уникальный индекс перед месячной агрегацией.\n",
    "        # Используйте нужную вам функцию агрегации (mean, median, sum, first, last и т.д.)\n",
    "        df_temp_processed = df_temp_processed.groupby(level=0).mean() # level=0 означает группировку по индексу\n",
    "        # Или, если вы хотите использовать ту же агрегацию, что и для месяца:\n",
    "        # df_temp_processed = df_temp_processed.groupby(level=0).agg(config.AGGREGATION_TEMP)\n",
    "        print(\"Дубликаты в индексе агрегированы.\")\n",
    "\n",
    "    # Шаг 2: Агрегация\n",
    "    # Убедитесь, что колонка TEMP_VALUE_COL существует\n",
    "    df_temp_agg = cleaner.aggregate_monthly(df_temp_processed, value_col=TEMP_VALUE_COL, agg_func=config.AGGREGATION_TEMP)\n",
    "\n",
    "    # Шаг 3: Нормализация\n",
    "    df_temp_norm = cleaner.normalize_data(df_temp_agg, method=config.NORMALIZATION_METHOD_TEMP)\n",
    "    df_temp_norm.name = \"Temperature_Norm\"\n",
    "\n",
    "    display(Markdown(\"#### Обработанные данные температуры (первые 5 строк):\"))\n",
    "    display(df_temp_norm.head())\n",
    "    print(f\"\\nКоличество записей: {len(df_temp_norm)}\")\n",
    "\n",
    "except KeyError as e:\n",
    "    print(f\"Ошибка: Колонка {e} не найдена. Проверьте имена колонок TEMP_DATE_COL и TEMP_VALUE_COL.\")\n",
    "    raise\n",
    "except Exception as e:\n",
    "    print(f\"Ошибка при обработке данных температуры: {e}\")\n",
    "    raise"
   ]
  },
  {
   "cell_type": "markdown",
   "metadata": {},
   "source": [
    "### 4.2 Обработка вторичных данных"
   ]
  },
  {
   "cell_type": "code",
   "execution_count": 6,
   "metadata": {},
   "outputs": [
    {
     "name": "stdout",
     "output_type": "stream",
     "text": [
      "Unifying timestamps for column: Date\n",
      "Timestamps unified and set as index.\n",
      "Aggregating column 'Mortality' monthly using 'sum'\n",
      "Error during aggregation: 'PeriodIndex' object has no attribute 'to_period'\n",
      "Normalizing series using method: log\n"
     ]
    },
    {
     "data": {
      "text/markdown": [
       "#### Обработанные данные 'Mortality' (первые 5 строк):"
      ],
      "text/plain": [
       "<IPython.core.display.Markdown object>"
      ]
     },
     "metadata": {},
     "output_type": "display_data"
    },
    {
     "data": {
      "text/plain": [
       "Series([], Name: Mortality_Norm, dtype: float64)"
      ]
     },
     "metadata": {},
     "output_type": "display_data"
    },
    {
     "name": "stdout",
     "output_type": "stream",
     "text": [
      "\n",
      "Количество записей: 0\n"
     ]
    }
   ],
   "source": [
    "# Важно: Укажите правильные имена колонок из ваших файлов!\n",
    "# Имена колонок после обработки в loader.py (для mortality.csv)\n",
    "SECONDARY_DATE_COL = 'Date' \n",
    "SECONDARY_VALUE_COL = 'Mortality' # Используем 'Mortality' т.к. это default в config\n",
    "# Если будете использовать DTP, измените SECONDARY_VALUE_COL на 'DTP'\n",
    "\n",
    "try:\n",
    "    # Шаг 1: Унификация временных меток\n",
    "    df_secondary_processed = cleaner.unify_timestamps(df_secondary_raw.copy(), date_col=SECONDARY_DATE_COL, target_format=config.DATE_FORMAT)\n",
    "\n",
    "    # Шаг 2: Агрегация\n",
    "    df_secondary_agg = cleaner.aggregate_monthly(df_secondary_processed, value_col=SECONDARY_VALUE_COL, agg_func=config.AGGREGATION_SECONDARY)\n",
    "\n",
    "    # Шаг 3: Нормализация\n",
    "    df_secondary_norm = cleaner.normalize_data(df_secondary_agg, method=config.NORMALIZATION_METHOD_SECONDARY)\n",
    "    df_secondary_norm.name = f\"{config.SECONDARY_DATA_NAME}_Norm\"\n",
    "\n",
    "    display(Markdown(f\"#### Обработанные данные '{config.SECONDARY_DATA_NAME}' (первые 5 строк):\"))\n",
    "    display(df_secondary_norm.head())\n",
    "    print(f\"\\nКоличество записей: {len(df_secondary_norm)}\")\n",
    "\n",
    "except KeyError as e:\n",
    "    print(f\"Ошибка: Колонка {e} не найдена. Проверьте имена колонок SECONDARY_DATE_COL и SECONDARY_VALUE_COL.\")\n",
    "    raise\n",
    "except Exception as e:\n",
    "    print(f\"Ошибка при обработке вторичных данных: {e}\")\n",
    "    raise"
   ]
  },
  {
   "cell_type": "markdown",
   "metadata": {},
   "source": [
    "### 4.3 Объединение данных\n",
    "\n",
    "Объединяем обработанные ряды в один DataFrame, используя внутреннее соединение (`inner`) для сохранения только пересекающихся временных периодов."
   ]
  },
  {
   "cell_type": "code",
   "execution_count": 7,
   "metadata": {},
   "outputs": [
    {
     "name": "stdout",
     "output_type": "stream",
     "text": [
      "Merging dataframes using method: inner\n",
      "Warning: One or both DataFrames do not have a time-based index. Merge might be incorrect.\n",
      "DataFrames merged successfully.\n"
     ]
    },
    {
     "data": {
      "text/markdown": [
       "#### Объединенные данные (первые 5 строк):"
      ],
      "text/plain": [
       "<IPython.core.display.Markdown object>"
      ]
     },
     "metadata": {},
     "output_type": "display_data"
    },
    {
     "data": {
      "text/html": [
       "<div>\n",
       "<style scoped>\n",
       "    .dataframe tbody tr th:only-of-type {\n",
       "        vertical-align: middle;\n",
       "    }\n",
       "\n",
       "    .dataframe tbody tr th {\n",
       "        vertical-align: top;\n",
       "    }\n",
       "\n",
       "    .dataframe thead th {\n",
       "        text-align: right;\n",
       "    }\n",
       "</style>\n",
       "<table border=\"1\" class=\"dataframe\">\n",
       "  <thead>\n",
       "    <tr style=\"text-align: right;\">\n",
       "      <th></th>\n",
       "      <th>Temperature_Norm</th>\n",
       "      <th>Mortality_Norm</th>\n",
       "    </tr>\n",
       "  </thead>\n",
       "  <tbody>\n",
       "  </tbody>\n",
       "</table>\n",
       "</div>"
      ],
      "text/plain": [
       "Empty DataFrame\n",
       "Columns: [Temperature_Norm, Mortality_Norm]\n",
       "Index: []"
      ]
     },
     "metadata": {},
     "output_type": "display_data"
    },
    {
     "name": "stdout",
     "output_type": "stream",
     "text": [
      "\n",
      "Итоговое количество записей: 0\n",
      "Временной диапазон: nan - nan\n",
      "Checking merged data completeness...\n",
      "No missing values found.\n",
      "Index is not time-based, skipping gap check.\n"
     ]
    }
   ],
   "source": [
    "try:\n",
    "    df_merged = merger.merge_dataframes(df_temp_norm.to_frame(), df_secondary_norm.to_frame(), how='inner')\n",
    "\n",
    "    display(Markdown(\"#### Объединенные данные (первые 5 строк):\"))\n",
    "    display(df_merged.head())\n",
    "    print(f\"\\nИтоговое количество записей: {len(df_merged)}\")\n",
    "    print(f\"Временной диапазон: {df_merged.index.min()} - {df_merged.index.max()}\")\n",
    "\n",
    "    # Проверка на пропуски после объединения\n",
    "    merger.check_completeness(df_merged)\n",
    "\n",
    "except Exception as e:\n",
    "    print(f\"Ошибка при объединении данных: {e}\")\n",
    "    raise"
   ]
  },
  {
   "cell_type": "markdown",
   "metadata": {},
   "source": [
    "## 5. Визуализация Обработанных Рядов\n",
    "\n",
    "Строим графики объединенных и нормализованных временных рядов."
   ]
  },
  {
   "cell_type": "code",
   "execution_count": 8,
   "metadata": {},
   "outputs": [
    {
     "name": "stdout",
     "output_type": "stream",
     "text": [
      "Plotting time series: Обработанные и объединенные временные ряды\n"
     ]
    },
    {
     "data": {
      "image/png": "[encoded data removed]",
      "text/plain": [
       "<Figure size 1200x600 with 1 Axes>"
      ]
     },
     "metadata": {},
     "output_type": "display_data"
    }
   ],
   "source": [
    "if config.INTERACTIVE_PLOTS:\n",
    "    try:\n",
    "        time_series.plot_time_series_interactive(df_merged, title=\"Обработанные и объединенные временные ряды (Интерактивно)\")\n",
    "    except Exception as e:\n",
    "        print(f\"Ошибка при построении интерактивного графика: {e}. Попробуем статический график.\")\n",
    "        time_series.plot_time_series(df_merged, title=\"Обработанные и объединенные временные ряды\")\n",
    "else:\n",
    "    time_series.plot_time_series(df_merged, title=\"Обработанные и объединенные временные ряды\")"
   ]
  },
  {
   "cell_type": "markdown",
   "metadata": {},
   "source": [
    "## 6. Проверка Стационарности\n",
    "\n",
    "Проверяем ряды на стационарность с помощью тестов ADF (Augmented Dickey-Fuller) и KPSS (Kwiatkowski-Phillips-Schmidt-Shin).\n",
    "\n",
    "-   **ADF Тест:**\n",
    "    -   H0: Ряд имеет единичный корень (нестационарен).\n",
    "    -   H1: Ряд не имеет единичного корня (стационарен).\n",
    "    -   *Ожидание:* p-value < уровня значимости (например, 0.05) для отклонения H0.\n",
    "-   **KPSS Тест:**\n",
    "    -   H0: Ряд стационарен относительно уровня или тренда.\n",
    "    -   H1: Ряд имеет единичный корень (нестационарен).\n",
    "    -   *Ожидание:* p-value >= уровня значимости (например, 0.05) для НЕотклонения H0.\n",
    "\n",
    "Если ряды нестационарны, применяем дифференцирование и повторяем проверку."
   ]
  },
  {
   "cell_type": "code",
   "execution_count": 9,
   "metadata": {},
   "outputs": [
    {
     "data": {
      "text/markdown": [
       "### Проверка стационарности исходных (объединенных) рядов:"
      ],
      "text/plain": [
       "<IPython.core.display.Markdown object>"
      ]
     },
     "metadata": {},
     "output_type": "display_data"
    },
    {
     "name": "stdout",
     "output_type": "stream",
     "text": [
      "\n",
      "--- Checking Stationarity for: Temperature_Norm ---\n",
      "Performing ADF test on series: Temperature_Norm (Regression: c)\n",
      "Error during ADF test for Temperature_Norm: zero-size array to reduction operation maximum which has no identity\n",
      "Performing KPSS test on series: Temperature_Norm (Regression: c)\n",
      "Error during KPSS test for Temperature_Norm: cannot convert float NaN to integer\n",
      "\n",
      "--- Checking Stationarity for: Mortality_Norm ---\n",
      "Performing ADF test on series: Mortality_Norm (Regression: c)\n",
      "Error during ADF test for Mortality_Norm: zero-size array to reduction operation maximum which has no identity\n",
      "Performing KPSS test on series: Mortality_Norm (Regression: c)\n",
      "Error during KPSS test for Mortality_Norm: cannot convert float NaN to integer\n",
      "\n",
      "Ряд 'Temperature_Norm' вероятно нестационарен. Рекомендуется дифференцирование.\n",
      "\n",
      "Применяем дифференцирование порядка 1...\n"
     ]
    },
    {
     "ename": "AttributeError",
     "evalue": "'DataFrame' object has no attribute 'name'",
     "output_type": "error",
     "traceback": [
      "\u001b[31m---------------------------------------------------------------------------\u001b[39m",
      "\u001b[31mAttributeError\u001b[39m                            Traceback (most recent call last)",
      "\u001b[32m~\\AppData\\Local\\Temp\\ipykernel_18304\\2284153610.py\u001b[39m in \u001b[36m?\u001b[39m\u001b[34m()\u001b[39m\n\u001b[32m     16\u001b[39m \n\u001b[32m     17\u001b[39m \u001b[38;5;28;01mif\u001b[39;00m needs_differencing:\n\u001b[32m     18\u001b[39m     diff_order = \u001b[32m1\u001b[39m \u001b[38;5;66;03m# Начинаем с первого порядка\u001b[39;00m\n\u001b[32m     19\u001b[39m     print(f\"\\nПрименяем дифференцирование порядка {diff_order}...\")\n\u001b[32m---> \u001b[39m\u001b[32m20\u001b[39m     df_stationary = stationarity.apply_differencing(df_merged, order=diff_order)\n\u001b[32m     21\u001b[39m \n\u001b[32m     22\u001b[39m     display(Markdown(f\"### Проверка стационарности после дифференцирования (порядок {diff_order}):\"))\n\u001b[32m     23\u001b[39m     stationarity_results_diff = stationarity.check_stationarity_on_dataframe(\n",
      "\u001b[32md:\\!WORK\\!VUZ\\3_course\\Основы_машинного_обучения\\Доп проект\\src\\analysis\\stationarity.py\u001b[39m in \u001b[36m?\u001b[39m\u001b[34m(series, order)\u001b[39m\n\u001b[32m     91\u001b[39m \u001b[38;5;28;01mdef\u001b[39;00m apply_differencing(series: pd.Series, order: int = \u001b[32m1\u001b[39m) -> pd.Series:\n\u001b[32m     92\u001b[39m     \u001b[33m\"\"\"Applies differencing to a series.\"\"\"\u001b[39m\n\u001b[32m     93\u001b[39m     \u001b[38;5;28;01mif\u001b[39;00m order <= \u001b[32m0\u001b[39m:\n\u001b[32m     94\u001b[39m         \u001b[38;5;28;01mreturn\u001b[39;00m series\n\u001b[32m---> \u001b[39m\u001b[32m95\u001b[39m     print(f\"Applying differencing of order {order} to series: {series.name}\")\n\u001b[32m     96\u001b[39m     \u001b[38;5;28;01mreturn\u001b[39;00m series.diff(order).dropna()\n",
      "\u001b[32md:\\!WORK\\!VUZ\\3_course\\Основы_машинного_обучения\\Доп проект\\.venv\\Lib\\site-packages\\pandas\\core\\generic.py\u001b[39m in \u001b[36m?\u001b[39m\u001b[34m(self, name)\u001b[39m\n\u001b[32m   6295\u001b[39m             \u001b[38;5;28;01mand\u001b[39;00m name \u001b[38;5;28;01mnot\u001b[39;00m \u001b[38;5;28;01min\u001b[39;00m self._accessors\n\u001b[32m   6296\u001b[39m             \u001b[38;5;28;01mand\u001b[39;00m self._info_axis._can_hold_identifiers_and_holds_name(name)\n\u001b[32m   6297\u001b[39m         ):\n\u001b[32m   6298\u001b[39m             \u001b[38;5;28;01mreturn\u001b[39;00m self[name]\n\u001b[32m-> \u001b[39m\u001b[32m6299\u001b[39m         \u001b[38;5;28;01mreturn\u001b[39;00m object.__getattribute__(self, name)\n",
      "\u001b[31mAttributeError\u001b[39m: 'DataFrame' object has no attribute 'name'"
     ]
    }
   ],
   "source": [
    "display(Markdown(\"### Проверка стационарности исходных (объединенных) рядов:\"))\n",
    "stationarity_results_orig = stationarity.check_stationarity_on_dataframe(\n",
    "    df_merged, \n",
    "    adf_level=config.ADF_SIGNIFICANCE_LEVEL, \n",
    "    kpss_level=config.KPSS_SIGNIFICANCE_LEVEL\n",
    ")\n",
    "\n",
    "# Анализ результатов и принятие решения о дифференцировании\n",
    "needs_differencing = False\n",
    "for col, results in stationarity_results_orig.items():\n",
    "    # Считаем ряд нестационарным, если ADF не отвергает H0 ИЛИ KPSS отвергает H0\n",
    "    if not results['ADF'][0] or not results['KPSS'][0]:\n",
    "        needs_differencing = True\n",
    "        print(f\"\\nРяд '{col}' вероятно нестационарен. Рекомендуется дифференцирование.\")\n",
    "        break # Достаточно одного нестационарного ряда для дифференцирования всего датафрейма\n",
    "\n",
    "if needs_differencing:\n",
    "    diff_order = 1 # Начинаем с первого порядка\n",
    "    print(f\"\\nПрименяем дифференцирование порядка {diff_order}...\")\n",
    "    df_stationary = stationarity.apply_differencing(df_merged, order=diff_order)\n",
    "    \n",
    "    display(Markdown(f\"### Проверка стационарности после дифференцирования (порядок {diff_order}):\"))\n",
    "    stationarity_results_diff = stationarity.check_stationarity_on_dataframe(\n",
    "        df_stationary, \n",
    "        adf_level=config.ADF_SIGNIFICANCE_LEVEL, \n",
    "        kpss_level=config.KPSS_SIGNIFICANCE_LEVEL\n",
    "    )\n",
    "    # TODO: Добавить логику для повторного дифференцирования (order=2), если необходимо\n",
    "    # Проверяем стационарность df_stationary и при необходимости применяем diff(2)\n",
    "    still_needs_diff = False\n",
    "    for col, results in stationarity_results_diff.items():\n",
    "        if not results['ADF'][0] or not results['KPSS'][0]:\n",
    "             still_needs_diff = True\n",
    "             print(f\"\\nРяд '{col}' все еще может быть нестационарен после diff(1).\")\n",
    "             break\n",
    "    if still_needs_diff and config.MAX_DIFFERENCING_ORDER >= 2:\n",
    "         diff_order = 2\n",
    "         print(f\"\\nПрименяем дифференцирование порядка {diff_order}...\")\n",
    "         # Применяем к исходному df_merged, а не к df_stationary\n",
    "         df_stationary = stationarity.apply_differencing(df_merged, order=diff_order)\n",
    "         display(Markdown(f\"### Проверка стационарности после дифференцирования (порядок {diff_order}):\"))\n",
    "         stationarity.check_stationarity_on_dataframe(df_stationary, adf_level=config.ADF_SIGNIFICANCE_LEVEL, kpss_level=config.KPSS_SIGNIFICANCE_LEVEL)\n",
    "    elif still_needs_diff:\n",
    "         print(f\"\\nПредупреждение: Ряды могут быть нестационарны даже после дифференцирования максимального порядка ({config.MAX_DIFFERENCING_ORDER}). Результаты VAR/Granger могут быть ненадежными.\")\n",
    "else:\n",
    "    print(\"\\nВсе ряды стационарны. Дифференцирование не требуется.\")\n",
    "    df_stationary = df_merged.copy() # Используем исходные данные\n",
    "\n",
    "display(Markdown(\"#### Итоговые данные для моделирования (первые 5 строк):\"))\n",
    "display(df_stationary.head())"
   ]
  },
  {
   "cell_type": "markdown",
   "metadata": {},
   "source": [
    "## 7. Визуализация Стационарных Рядов и ACF/PACF\n",
    "\n",
    "Строим графики рядов после преобразований (если они применялись) и их автокорреляционные (ACF) и частично автокорреляционные (PACF) функции для визуальной оценки структуры зависимостей."
   ]
  },
  {
   "cell_type": "code",
   "execution_count": null,
   "metadata": {},
   "outputs": [],
   "source": [
    "display(Markdown(\"### Графики стационарных рядов:\"))\n",
    "if config.INTERACTIVE_PLOTS:\n",
    "    try:\n",
    "        time_series.plot_time_series_interactive(df_stationary, title=\"Стационарные временные ряды (Интерактивно)\")\n",
    "    except Exception as e:\n",
    "        print(f\"Ошибка при построении интерактивного графика: {e}. Попробуем статический график.\")\n",
    "        time_series.plot_time_series(df_stationary, title=\"Стационарные временные ряды\")\n",
    "else:\n",
    "    time_series.plot_time_series(df_stationary, title=\"Стационарные временные ряды\")\n",
    "\n",
    "display(Markdown(\"### Графики ACF/PACF для стационарных рядов:\"))\n",
    "acf_pacf_lags = 24 # Количество лагов для отображения\n",
    "for col in df_stationary.columns:\n",
    "    time_series.plot_acf_pacf(df_stationary[col], lags=acf_pacf_lags, title_suffix=\"(Stationary)\")"
   ]
  },
  {
   "cell_type": "markdown",
   "metadata": {},
   "source": [
    "## 8. Определение Оптимального Лага VAR Модели\n",
    "\n",
    "Подбираем оптимальный порядок лага для модели векторной авторегрессии (VAR), используя информационные критерии (AIC, BIC и др.). Модель VAR описывает каждый временной ряд как линейную функцию от его собственных прошлых значений и прошлых значений других рядов в системе."
   ]
  },
  {
   "cell_type": "code",
   "execution_count": null,
   "metadata": {},
   "outputs": [],
   "source": [
    "try:\n",
    "    optimal_lags = var_model.select_optimal_lag(\n",
    "        df_stationary, \n",
    "        max_lags=config.MAX_LAG_ORDER, \n",
    "        criteria=config.LAG_SELECTION_CRITERIA\n",
    "    )\n",
    "    \n",
    "    # Выбор лага (например, по BIC, который обычно выбирает более парсимоничные модели)\n",
    "    chosen_lag = optimal_lags.get('bic', -1)\n",
    "    if chosen_lag == -1: # Если BIC не найден, пробуем AIC\n",
    "        chosen_lag = optimal_lags.get('aic', -1)\n",
    "        if chosen_lag != -1:\n",
    "             print(\"\\nBIC не найден, используем лаг по AIC.\")\n",
    "    \n",
    "    if chosen_lag <= 0:\n",
    "        print(f\"\\nПредупреждение: Оптимальный лаг ({chosen_lag}) не является положительным числом. VAR модель не может быть построена. Проверьте данные или увеличьте max_lags.\")\n",
    "        # Можно попробовать установить лаг вручную, например, 1, но это может быть некорректно\n",
    "        # chosen_lag = 1 \n",
    "        # print(\"Устанавливаем лаг = 1 вручную для продолжения анализа (результаты могут быть неточными).\")\n",
    "    else:\n",
    "        print(f\"\\nВыбранный оптимальный лаг для VAR модели: {chosen_lag}\")\n",
    "\n",
    "except Exception as e:\n",
    "    print(f\"Ошибка при выборе оптимального лага: {e}\")\n",
    "    chosen_lag = -1 # Устанавливаем невалидный лаг при ошибке\n",
    "    raise"
   ]
  },
  {
   "cell_type": "markdown",
   "metadata": {},
   "source": [
    "## 9. Построение и Проверка VAR Модели\n",
    "\n",
    "Строим VAR модель с выбранным оптимальным лагом и проверяем ее стабильность. Стабильность означает, что модель не будет генерировать взрывных прогнозов и является условием для корректной интерпретации импульсных откликов и результатов теста Грейнджера."
   ]
  },
  {
   "cell_type": "code",
   "execution_count": null,
   "metadata": {},
   "outputs": [],
   "source": [
    "var_results = None\n",
    "is_stable = False\n",
    "\n",
    "if chosen_lag > 0:\n",
    "    try:\n",
    "        var_results = var_model.fit_var_model(df_stationary, lag_order=chosen_lag)\n",
    "        if var_results:\n",
    "            is_stable = var_model.check_model_stability(var_results)\n",
    "            if not is_stable:\n",
    "                print(\"\\nПредупреждение: VAR модель нестабильна! Результаты теста Грейнджера и IRF могут быть некорректными.\")\n",
    "                print(\"Возможные причины: неправильный выбор лага, нестационарность данных (несмотря на тесты), структурные сдвиги.\")\n",
    "        else:\n",
    "            print(\"Не удалось построить VAR модель.\")\n",
    "    except Exception as e:\n",
    "        print(f\"Ошибка при построении или проверке VAR модели: {e}\")\n",
    "else:\n",
    "    print(\"Оптимальный лаг не выбран или некорректен, построение VAR модели пропускается.\")"
   ]
  },
  {
   "cell_type": "markdown",
   "metadata": {},
   "source": [
    "## 10. Тест Грейнджера на Причинно-Следственную Связь\n",
    "\n",
    "Проводим тест Грейнджера, чтобы определить, помогает ли знание прошлых значений одного временного ряда предсказывать будущие значения другого ряда.\n",
    "\n",
    "Формулировка гипотез (для `X -> Y`):\n",
    "-   **H0:** Прошлые значения X **не** помогают предсказывать Y (X не является причиной Y по Грейнджеру).\n",
    "-   **H1:** Прошлые значения X **помогают** предсказывать Y (X является причиной Y по Грейнджеру).\n",
    "\n",
    "Мы ищем низкие p-value (меньше уровня значимости, например, 0.05), чтобы отвергнуть H0 и сделать вывод о наличии причинности по Грейнджеру."
   ]
  },
  {
   "cell_type": "code",
   "execution_count": null,
   "metadata": {},
   "outputs": [],
   "source": [
    "granger_summary = None\n",
    "if var_results:\n",
    "    try:\n",
    "        # Используем лаг, с которым была построена модель VAR\n",
    "        granger_lag = var_results.k_ar \n",
    "        granger_results_dict = granger.perform_granger_causality_test(\n",
    "            var_results, \n",
    "            max_lag=granger_lag, \n",
    "            significance_level=config.GRANGER_SIGNIFICANCE_LEVEL\n",
    "        )\n",
    "        \n",
    "        if granger_results_dict:\n",
    "            granger_summary = granger.summarize_granger_results(granger_results_dict)\n",
    "            display(Markdown(\"### Результаты теста Грейнджера:\"))\n",
    "            display(granger_summary)\n",
    "        else:\n",
    "            print(\"Не удалось получить результаты теста Грейнджера.\")\n",
    "\n",
    "    except Exception as e:\n",
    "        print(f\"Ошибка при выполнении теста Грейнджера: {e}\")\n",
    "else:\n",
    "    print(\"VAR модель не была успешно построена, тест Грейнджера пропускается.\")"
   ]
  },
  {
   "cell_type": "markdown",
   "metadata": {},
   "source": [
    "## 11. Визуализация Диагностик Модели\n",
    "\n",
    "Строим диагностические графики для анализа динамики взаимодействия между переменными:\n",
    "\n",
    "-   **Импульсные Отклики (Impulse Response Functions - IRF):** Показывают реакцию одной переменной на шок (неожиданное изменение) в другой переменной на протяжении нескольких периодов времени.\n",
    "-   **Декомпозиция Дисперсии Ошибок Прогноза (Forecast Error Variance Decomposition - FEVD):** Показывает, какая доля дисперсии ошибки прогноза каждой переменной объясняется шоками в других переменных (включая саму себя) на разных горизонтах прогнозирования."
   ]
  },
  {
   "cell_type": "code",
   "execution_count": null,
   "metadata": {},
   "outputs": [],
   "source": [
    "if var_results:\n",
    "    plot_periods = 24 # Горизонт для IRF и FEVD\n",
    "    display(Markdown(\"### Графики Импульсных Откликов (IRF):\"))\n",
    "    try:\n",
    "        diagnostics.plot_impulse_response(var_results, periods=plot_periods)\n",
    "    except Exception as e:\n",
    "        print(f\"Ошибка при построении IRF: {e}\")\n",
    "    \n",
    "    display(Markdown(\"### Графики Декомпозиции Дисперсии Ошибок Прогноза (FEVD):\"))\n",
    "    try:\n",
    "        diagnostics.plot_fevd(var_results, periods=plot_periods)\n",
    "    except Exception as e:\n",
    "        print(f\"Ошибка при построении FEVD: {e}\")\n",
    "else:\n",
    "    print(\"VAR модель не была успешно построена, диагностические графики пропускаются.\")"
   ]
  },
  {
   "cell_type": "markdown",
   "metadata": {},
   "source": [
    "## 12. Выводы и Интерпретация\n",
    "\n",
    "Здесь следует подробно описать полученные результаты:\n",
    "\n",
    "1.  **Стационарность:** Были ли ряды стационарны изначально? Если нет, какой порядок дифференцирования потребовался?\n",
    "2.  **VAR Модель:** Какой оптимальный лаг был выбран? Стабильна ли построенная модель?\n",
    "3.  **Причинность по Грейнджеру:**\n",
    "    -   Обнаружена ли статистически значимая причинность от температуры к вторичному показателю?\n",
    "    -   Обнаружена ли статистически значимая причинность от вторичного показателя к температуре?\n",
    "    -   Интерпретация p-values и F-статистик.\n",
    "4.  **IRF и FEVD:**\n",
    "    -   Как вторичный показатель реагирует на шок в температуре (и наоборот)? Реакция затухает быстро или медленно?\n",
    "    -   Какая переменная вносит больший вклад в дисперсию ошибок прогноза другой переменной на разных горизонтах?\n",
    "5.  **Общий вывод:** Подтверждается ли гипотеза о влиянии температуры на выбранный показатель (и/или обратное влияние) в контексте причинности по Грейнджеру для данного временного периода и уровня агрегации данных?"
   ]
  },
  {
   "cell_type": "code",
   "execution_count": null,
   "metadata": {},
   "outputs": [],
   "source": [
    "# Пример вывода интерпретации на основе полученных результатов\n",
    "display(Markdown(\"### Интерпретация Результатов (Пример):\"))\n",
    "\n",
    "if granger_summary is not None:\n",
    "    temp_causes_secondary = False\n",
    "    secondary_causes_temp = False\n",
    "    temp_var = 'Temperature_Norm'\n",
    "    sec_var = f\"{config.SECONDARY_DATA_NAME}_Norm\"\n",
    "    \n",
    "    try:\n",
    "        # Проверяем Temp -> Secondary\n",
    "        res_t_s = granger_summary[(granger_summary['Effect'] == f\"{temp_var} -> {sec_var}\")]\n",
    "        if not res_t_s.empty and res_t_s.iloc[0]['SSR_Significant']:\n",
    "             temp_causes_secondary = True\n",
    "             print(f\"- Обнаружена статистически значимая причинность по Грейнджеру от {temp_var} к {sec_var} (p={res_t_s.iloc[0]['SSR_p_value']}).\")\n",
    "        else:\n",
    "             print(f\"- Статистически значимая причинность по Грейнджеру от {temp_var} к {sec_var} НЕ обнаружена.\")\n",
    "        \n",
    "        # Проверяем Secondary -> Temp\n",
    "        res_s_t = granger_summary[(granger_summary['Effect'] == f\"{sec_var} -> {temp_var}\")]\n",
    "        if not res_s_t.empty and res_s_t.iloc[0]['SSR_Significant']:\n",
    "             secondary_causes_temp = True\n",
    "             print(f\"- Обнаружена статистически значимая причинность по Грейнджеру от {sec_var} к {temp_var} (p={res_s_t.iloc[0]['SSR_p_value']}).\")\n",
    "        else:\n",
    "             print(f\"- Статистически значимая причинность по Грейнджеру от {sec_var} к {temp_var} НЕ обнаружена.\")\n",
    "    except Exception as e:\n",
    "        print(f\"Ошибка при автоматической интерпретации результатов Грейнджера: {e}\")\n",
    "        \n",
    "else:\n",
    "    print(\"- Результаты теста Грейнджера недоступны для интерпретации.\")\n",
    "\n",
    "if var_results and is_stable:\n",
    "    print(\"- Модель VAR стабильна, что позволяет интерпретировать IRF и FEVD.\")\n",
    "elif var_results and not is_stable:\n",
    "     print(\"- Модель VAR НЕСТАБИЛЬНА. Интерпретация IRF и FEVD ненадежна.\")\n",
    "else:\n",
    "     print(\"- Модель VAR не построена.\")\n",
    "     \n",
    "# Добавьте сюда более детальный анализ IRF/FEVD и общие выводы..."
   ]
  }
 ],
 "metadata": {
  "kernelspec": {
   "display_name": ".venv",
   "language": "python",
   "name": "python3"
  },
  "language_info": {
   "codemirror_mode": {
    "name": "ipython",
    "version": 3
   },
   "file_extension": ".py",
   "mimetype": "text/x-python",
   "name": "python",
   "nbconvert_exporter": "python",
   "pygments_lexer": "ipython3",
   "version": "3.13.1"
  }
 },
 "nbformat": 4,
 "nbformat_minor": 4
}
