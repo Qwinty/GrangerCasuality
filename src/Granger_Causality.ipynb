{
 "cells": [
  {
   "cell_type": "markdown",
   "metadata": {},
   "source": [
    "# Анализ причинно-следственных связей по Грейнджеру: Температура и Демография/ДТП в Москве\n",
    "\n",
    "Этот ноутбук реализует пайплайн для анализа причинно-следственных связей между временными рядами температуры и выбранным вторичным показателем (смертность или ДТП) для Москвы, используя тест Грейнджера."
   ]
  },
  {
   "cell_type": "markdown",
   "metadata": {},
   "source": [
    "## 1. Инициализация и Загрузка Библиотек"
   ]
  },
  {
   "cell_type": "code",
   "execution_count": 1,
   "metadata": {},
   "outputs": [
    {
     "name": "stdout",
     "output_type": "stream",
     "text": [
      "Ноутбук в 'src'. Добавили '..' в sys.path.\n",
      "Библиотеки и модули успешно импортированы.\n"
     ]
    }
   ],
   "source": [
    "import sys\n",
    "import os\n",
    "import warnings\n",
    "\n",
    "# Добавляем директорию src в путь Python\n",
    "# Это необходимо, чтобы импортировать наши модули\n",
    "if os.path.basename(os.getcwd()) != 'src':\n",
    "    # Если ноутбук запускается из корня проекта\n",
    "    if os.path.exists('src'):\n",
    "        sys.path.append('src')\n",
    "        print(f\"Добавили 'src' в sys.path. Текущая директория: {os.getcwd()}\")\n",
    "    else:\n",
    "        # Попытка подняться на уровень выше, если мы внутри src\n",
    "        if os.path.exists('../src'):\n",
    "             sys.path.append('..')\n",
    "             print(f\"Добавили '..' в sys.path. Текущая директория: {os.getcwd()}\")\n",
    "        else:\n",
    "             print(\"Не удалось найти директорию 'src'. Убедитесь, что ноутбук находится в корне проекта или в 'src'.\")\n",
    "else:\n",
    "    # Если ноутбук уже в src, добавляем родительскую директорию для доступа к data\n",
    "    sys.path.append('..')\n",
    "    print(f\"Ноутбук в 'src'. Добавили '..' в sys.path.\")\n",
    "\n",
    "# Импорт необходимых библиотек\n",
    "import pandas as pd\n",
    "import numpy as np\n",
    "import matplotlib.pyplot as plt\n",
    "import seaborn as sns\n",
    "from IPython.display import display, Markdown # Для красивого вывода в Jupyter\n",
    "\n",
    "# Импорт модулей проекта\n",
    "import config\n",
    "from data_processing import loader, cleaner, merger\n",
    "from analysis import stationarity, var_model, granger\n",
    "from visualization import time_series, diagnostics\n",
    "from utils import logger, helpers\n",
    "\n",
    "# Настройки отображения\n",
    "pd.set_option('display.max_rows', 100)\n",
    "pd.set_option('display.max_columns', 50)\n",
    "warnings.filterwarnings('ignore') # Подавляем предупреждения для чистоты вывода\n",
    "\n",
    "# Настройка стиля графиков (из config)\n",
    "try:\n",
    "    plt.style.use(config.PLOT_STYLE)\n",
    "except Exception as e:\n",
    "    print(f\"Не удалось применить стиль графиков из config: {e}. Используется стиль по умолчанию.\")\n",
    "\n",
    "# Настройка логирования (опционально для ноутбука)\n",
    "# log = logger.setup_logger(use_file=False) # Вывод только в консоль\n",
    "# log.info(\"Запуск анализа в Jupyter Notebook\")\n",
    "print(\"Библиотеки и модули успешно импортированы.\")"
   ]
  },
  {
   "cell_type": "markdown",
   "metadata": {},
   "source": [
    "## 2. Загрузка Конфигурации\n",
    "\n",
    "Загружаем и отображаем основные параметры анализа из файла `config.py`."
   ]
  },
  {
   "cell_type": "code",
   "execution_count": 2,
   "metadata": {},
   "outputs": [
    {
     "data": {
      "text/markdown": [
       "### Параметры Анализа:"
      ],
      "text/plain": [
       "<IPython.core.display.Markdown object>"
      ]
     },
     "metadata": {},
     "output_type": "display_data"
    },
    {
     "name": "stdout",
     "output_type": "stream",
     "text": [
      "Файл данных температуры: ../data/Moscow_Temp (2010-2024).csv\n",
      "Файл вторичных данных: ../data/Moscow/moscow_mortality.csv\n",
      "Название вторичных данных: Mortality\n",
      "Формат даты для агрегации: %Y-%m\n",
      "Метод нормализации (Температура): z-score\n",
      "Метод нормализации (Вторичные данные): log\n",
      "Агрегация (Температура): mean\n",
      "Агрегация (Вторичные данные): mean\n",
      "Максимальный порядок дифференцирования: 2\n",
      "Максимальный лаг для VAR: 12\n",
      "Критерии выбора лага: ['aic', 'bic']\n",
      "Уровень значимости (ADF): 0.05\n",
      "Уровень значимости (KPSS): 0.05\n",
      "Уровень значимости (Granger): 0.05\n",
      "Интерактивные графики: True\n"
     ]
    }
   ],
   "source": [
    "display(Markdown(\"### Параметры Анализа:\"))\n",
    "print(f\"Файл данных температуры: {config.TEMP_DATA_PATH}\")\n",
    "print(f\"Файл вторичных данных: {config.SECONDARY_DATA_PATH}\")\n",
    "print(f\"Название вторичных данных: {config.SECONDARY_DATA_NAME}\")\n",
    "print(f\"Формат даты для агрегации: {config.DATE_FORMAT}\")\n",
    "print(f\"Метод нормализации (Температура): {config.NORMALIZATION_METHOD_TEMP}\")\n",
    "print(f\"Метод нормализации (Вторичные данные): {config.NORMALIZATION_METHOD_SECONDARY}\")\n",
    "print(f\"Агрегация (Температура): {config.AGGREGATION_TEMP}\")\n",
    "print(f\"Агрегация (Вторичные данные): {config.AGGREGATION_SECONDARY}\")\n",
    "print(f\"Максимальный порядок дифференцирования: {config.MAX_DIFFERENCING_ORDER}\")\n",
    "print(f\"Максимальный лаг для VAR: {config.MAX_LAG_ORDER}\")\n",
    "print(f\"Критерии выбора лага: {config.LAG_SELECTION_CRITERIA}\")\n",
    "print(f\"Уровень значимости (ADF): {config.ADF_SIGNIFICANCE_LEVEL}\")\n",
    "print(f\"Уровень значимости (KPSS): {config.KPSS_SIGNIFICANCE_LEVEL}\")\n",
    "print(f\"Уровень значимости (Granger): {config.GRANGER_SIGNIFICANCE_LEVEL}\")\n",
    "print(f\"Интерактивные графики: {config.INTERACTIVE_PLOTS}\")"
   ]
  },
  {
   "cell_type": "markdown",
   "metadata": {},
   "source": [
    "## 3. Загрузка Данных\n",
    "\n",
    "Загружаем исходные временные ряды температуры и выбранного вторичного показателя."
   ]
  },
  {
   "cell_type": "code",
   "execution_count": 3,
   "metadata": {},
   "outputs": [
    {
     "name": "stdout",
     "output_type": "stream",
     "text": [
      "Загрузка данных о температуре из: ../data/Moscow_Temp (2010-2024).csv\n",
      "Данные о температуре успешно загружены.\n",
      "Загрузка вторичных данных из: ../data/Moscow/moscow_mortality.csv\n",
      "Данные о смертности успешно загружены.\n"
     ]
    },
    {
     "data": {
      "text/markdown": [
       "### Исходные данные температуры (первые 5 строк):"
      ],
      "text/plain": [
       "<IPython.core.display.Markdown object>"
      ]
     },
     "metadata": {},
     "output_type": "display_data"
    },
    {
     "data": {
      "text/html": [
       "<div>\n",
       "<style scoped>\n",
       "    .dataframe tbody tr th:only-of-type {\n",
       "        vertical-align: middle;\n",
       "    }\n",
       "\n",
       "    .dataframe tbody tr th {\n",
       "        vertical-align: top;\n",
       "    }\n",
       "\n",
       "    .dataframe thead th {\n",
       "        text-align: right;\n",
       "    }\n",
       "</style>\n",
       "<table border=\"1\" class=\"dataframe\">\n",
       "  <thead>\n",
       "    <tr style=\"text-align: right;\">\n",
       "      <th></th>\n",
       "      <th>Date</th>\n",
       "      <th>Temperature</th>\n",
       "      <th>Precipitation</th>\n",
       "    </tr>\n",
       "  </thead>\n",
       "  <tbody>\n",
       "    <tr>\n",
       "      <th>0</th>\n",
       "      <td>2010-01-01</td>\n",
       "      <td>-9.6</td>\n",
       "      <td>0.2</td>\n",
       "    </tr>\n",
       "    <tr>\n",
       "      <th>1</th>\n",
       "      <td>2010-01-02</td>\n",
       "      <td>-13.2</td>\n",
       "      <td>0.0</td>\n",
       "    </tr>\n",
       "    <tr>\n",
       "      <th>2</th>\n",
       "      <td>2010-01-03</td>\n",
       "      <td>-17.2</td>\n",
       "      <td>0.0</td>\n",
       "    </tr>\n",
       "    <tr>\n",
       "      <th>3</th>\n",
       "      <td>2010-01-04</td>\n",
       "      <td>-18.0</td>\n",
       "      <td>0.2</td>\n",
       "    </tr>\n",
       "    <tr>\n",
       "      <th>4</th>\n",
       "      <td>2010-01-05</td>\n",
       "      <td>-11.9</td>\n",
       "      <td>0.0</td>\n",
       "    </tr>\n",
       "  </tbody>\n",
       "</table>\n",
       "</div>"
      ],
      "text/plain": [
       "        Date  Temperature  Precipitation\n",
       "0 2010-01-01         -9.6            0.2\n",
       "1 2010-01-02        -13.2            0.0\n",
       "2 2010-01-03        -17.2            0.0\n",
       "3 2010-01-04        -18.0            0.2\n",
       "4 2010-01-05        -11.9            0.0"
      ]
     },
     "metadata": {},
     "output_type": "display_data"
    },
    {
     "name": "stdout",
     "output_type": "stream",
     "text": [
      "<class 'pandas.core.frame.DataFrame'>\n",
      "RangeIndex: 5387 entries, 0 to 5386\n",
      "Data columns (total 3 columns):\n",
      " #   Column         Non-Null Count  Dtype         \n",
      "---  ------         --------------  -----         \n",
      " 0   Date           5387 non-null   datetime64[ns]\n",
      " 1   Temperature    5387 non-null   float64       \n",
      " 2   Precipitation  5387 non-null   float64       \n",
      "dtypes: datetime64[ns](1), float64(2)\n",
      "memory usage: 126.4 KB\n"
     ]
    },
    {
     "data": {
      "text/markdown": [
       "### Исходные данные 'Mortality' (первые 5 строк):"
      ],
      "text/plain": [
       "<IPython.core.display.Markdown object>"
      ]
     },
     "metadata": {},
     "output_type": "display_data"
    },
    {
     "data": {
      "text/html": [
       "<div>\n",
       "<style scoped>\n",
       "    .dataframe tbody tr th:only-of-type {\n",
       "        vertical-align: middle;\n",
       "    }\n",
       "\n",
       "    .dataframe tbody tr th {\n",
       "        vertical-align: top;\n",
       "    }\n",
       "\n",
       "    .dataframe thead th {\n",
       "        text-align: right;\n",
       "    }\n",
       "</style>\n",
       "<table border=\"1\" class=\"dataframe\">\n",
       "  <thead>\n",
       "    <tr style=\"text-align: right;\">\n",
       "      <th></th>\n",
       "      <th>Date</th>\n",
       "      <th>Mortality</th>\n",
       "    </tr>\n",
       "  </thead>\n",
       "  <tbody>\n",
       "    <tr>\n",
       "      <th>0</th>\n",
       "      <td>2010-01-01</td>\n",
       "      <td>10430</td>\n",
       "    </tr>\n",
       "    <tr>\n",
       "      <th>1</th>\n",
       "      <td>2010-02-01</td>\n",
       "      <td>9573</td>\n",
       "    </tr>\n",
       "    <tr>\n",
       "      <th>2</th>\n",
       "      <td>2010-03-01</td>\n",
       "      <td>10528</td>\n",
       "    </tr>\n",
       "    <tr>\n",
       "      <th>3</th>\n",
       "      <td>2010-04-01</td>\n",
       "      <td>9501</td>\n",
       "    </tr>\n",
       "    <tr>\n",
       "      <th>4</th>\n",
       "      <td>2010-05-01</td>\n",
       "      <td>9482</td>\n",
       "    </tr>\n",
       "  </tbody>\n",
       "</table>\n",
       "</div>"
      ],
      "text/plain": [
       "        Date  Mortality\n",
       "0 2010-01-01      10430\n",
       "1 2010-02-01       9573\n",
       "2 2010-03-01      10528\n",
       "3 2010-04-01       9501\n",
       "4 2010-05-01       9482"
      ]
     },
     "metadata": {},
     "output_type": "display_data"
    },
    {
     "name": "stdout",
     "output_type": "stream",
     "text": [
      "<class 'pandas.core.frame.DataFrame'>\n",
      "RangeIndex: 124 entries, 0 to 123\n",
      "Data columns (total 2 columns):\n",
      " #   Column     Non-Null Count  Dtype         \n",
      "---  ------     --------------  -----         \n",
      " 0   Date       124 non-null    datetime64[ns]\n",
      " 1   Mortality  124 non-null    int64         \n",
      "dtypes: datetime64[ns](1), int64(1)\n",
      "memory usage: 2.1 KB\n",
      "\n",
      "Dataset 'Mortality' не требует специфической предобработки для расчета месячных значений.\n"
     ]
    }
   ],
   "source": [
    "try:\n",
    "    df_temp_raw, df_secondary_raw_loaded = loader.load_all_data(config.TEMP_DATA_PATH, config.SECONDARY_DATA_PATH)\n",
    "\n",
    "    display(Markdown(\"### Исходные данные температуры (первые 5 строк):\"))\n",
    "    display(df_temp_raw.head())\n",
    "    df_temp_raw.info()\n",
    "\n",
    "    display(Markdown(f\"### Исходные данные '{config.SECONDARY_DATA_NAME}' (первые 5 строк):\"))\n",
    "    display(df_secondary_raw_loaded.head())\n",
    "    df_secondary_raw_loaded.info()\n",
    "\n",
    "    # Make a copy to avoid modifying the original loaded data if needed elsewhere\n",
    "    df_secondary_raw = df_secondary_raw_loaded.copy()\n",
    "\n",
    "    # Specific preprocessing for DTP cumulative data\n",
    "    if config.SECONDARY_DATA_NAME == \"DTP\":\n",
    "        print(f\"\\nОбнаружен '{config.SECONDARY_DATA_NAME}'. Применяем специфическую предобработку для расчета месячных значений...\")\n",
    "        try:\n",
    "            # --- DTP Monthly Calculation Logic ---\n",
    "            dtp_original_col = config.SECONDARY_DATA_NAME # This should be 'DTP' based on your config\n",
    "            date_col = 'Date' # Assuming loader provides a 'Date' column\n",
    "\n",
    "            # 1. Убедимся, что колонка 'Date' является datetime и DataFrame сортирован\n",
    "            if date_col not in df_secondary_raw.columns:\n",
    "                 # Try to find the date column if loader didn't standardize it\n",
    "                 potential_date_cols = [col for col in df_secondary_raw.columns if 'date' in col.lower() or 'дата' in col.lower()]\n",
    "                 if not potential_date_cols:\n",
    "                     raise ValueError(\"Could not automatically find the date column for DTP preprocessing.\")\n",
    "                 date_col = potential_date_cols[0]\n",
    "                 print(f\"Using '{date_col}' as the date column for DTP preprocessing.\")\n",
    "\n",
    "            if not pd.api.types.is_datetime64_any_dtype(df_secondary_raw[date_col]):\n",
    "                 # Attempt to parse if loader didn't (adjust format if needed)\n",
    "                 try:\n",
    "                     df_secondary_raw[date_col] = pd.to_datetime(df_secondary_raw[date_col])\n",
    "                 except ValueError:\n",
    "                      # Try the specific format from the CSV header if parsing failed\n",
    "                       try:\n",
    "                           df_secondary_raw[date_col] = pd.to_datetime(df_secondary_raw[date_col], format='%m.%Y')\n",
    "                       except Exception as parse_err:\n",
    "                           raise ValueError(f\"Could not parse date column '{date_col}' for DTP. Error: {parse_err}\")\n",
    "\n",
    "            df_secondary_raw = df_secondary_raw.sort_values(date_col)\n",
    "\n",
    "            # 2. Calculate monthly difference\n",
    "            monthly_col_name = f\"{dtp_original_col}_Monthly\"\n",
    "            df_secondary_raw[monthly_col_name] = df_secondary_raw[dtp_original_col].diff()\n",
    "\n",
    "            # 3. Correct the first month of each year (where diff is calculated relative to Dec of prev year)\n",
    "            # Also handles the very first row of the dataset (where diff() yields NaN)\n",
    "            year_start_mask = (df_secondary_raw[date_col].dt.month == 1) | (df_secondary_raw[monthly_col_name].isna())\n",
    "            df_secondary_raw.loc[year_start_mask, monthly_col_name] = df_secondary_raw.loc[year_start_mask, dtp_original_col]\n",
    "\n",
    "            # 4. Ensure the calculated monthly values are integers (or floats if necessary)\n",
    "            df_secondary_raw[monthly_col_name] = df_secondary_raw[monthly_col_name].astype(int) # Or float if needed\n",
    "\n",
    "            # 5. Prepare the dataframe for the next steps: Keep only Date and the new monthly column\n",
    "            #    Rename the monthly column back to the original name expected by the config/pipeline\n",
    "            df_secondary_raw = df_secondary_raw[[date_col, monthly_col_name]].rename(columns={monthly_col_name: dtp_original_col})\n",
    "            # --- End of DTP Logic ---\n",
    "\n",
    "            print(\"ДТП предпроцессинг завершен.\")\n",
    "            display(Markdown(f\"#### Данные '{config.SECONDARY_DATA_NAME}' после расчета месячных значений (первые 15 строк):\"))\n",
    "            display(df_secondary_raw.head(15)) # Display more rows to see the change after year end\n",
    "            df_secondary_raw.info()\n",
    "\n",
    "        except KeyError as ke:\n",
    "             print(f\"Ошибка при предобработке ДТП: не найдена колонка {ke}. Убедитесь, что колонка '{dtp_original_col}' существует после загрузки.\")\n",
    "             raise\n",
    "        except Exception as e:\n",
    "            print(f\"Ошибка во время специфической предобработки ДТП: {e}\")\n",
    "            raise\n",
    "    else:\n",
    "        print(f\"\\nDataset '{config.SECONDARY_DATA_NAME}' не требует специфической предобработки для расчета месячных значений.\")\n",
    "        # df_secondary_raw remains the originally loaded data for Mortality etc.\n",
    "\n",
    "\n",
    "except Exception as e:\n",
    "    print(f\"Ошибка при загрузке данных: {e}\")\n",
    "    # Прерываем выполнение или обрабатываем ошибку\n",
    "    raise"
   ]
  },
  {
   "cell_type": "markdown",
   "metadata": {},
   "source": [
    "## 4. Предобработка Данных\n",
    "\n",
    "Выполняем шаги предобработки:\n",
    "1.  **Унификация временных меток:** Приведение дат к формату `YYYY-MM` и установка в качестве индекса.\n",
    "2.  **Агрегация:** Расчет среднемесячной температуры и суммарных/средних значений для вторичного показателя.\n",
    "3.  **Нормализация:** Применение Z-score стандартизации или логарифмирования."
   ]
  },
  {
   "cell_type": "markdown",
   "metadata": {},
   "source": [
    "### 4.1 Обработка данных температуры"
   ]
  },
  {
   "cell_type": "code",
   "execution_count": 4,
   "metadata": {},
   "outputs": [
    {
     "name": "stdout",
     "output_type": "stream",
     "text": [
      "Унификация временных меток для столбца: Date\n",
      "Временные метки унифицированы и установлены в качестве индекса.\n",
      "Обнаружены дубликаты в индексе (5210 штук). Агрегируем их...\n",
      "Дубликаты в индексе агрегированы.\n",
      "Агрегация столбца 'Temperature' помесячно с использованием 'mean'\n",
      "Преобразование PeriodIndex в DatetimeIndex для агрегации.\n",
      "Агрегация завершена.\n",
      "Нормализация ряда с использованием метода: z-score\n"
     ]
    },
    {
     "data": {
      "text/markdown": [
       "#### Обработанные данные температуры (первые 5 строк):"
      ],
      "text/plain": [
       "<IPython.core.display.Markdown object>"
      ]
     },
     "metadata": {},
     "output_type": "display_data"
    },
    {
     "data": {
      "text/plain": [
       "Month\n",
       "2010-01-31   -2.188679\n",
       "2010-02-28   -1.570865\n",
       "2010-03-31   -0.826430\n",
       "2010-04-30    0.131968\n",
       "2010-05-31    0.986622\n",
       "Freq: ME, Name: Temperature_Norm, dtype: float64"
      ]
     },
     "metadata": {},
     "output_type": "display_data"
    },
    {
     "name": "stdout",
     "output_type": "stream",
     "text": [
      "\n",
      "Количество записей: 177\n"
     ]
    }
   ],
   "source": [
    "# Важно: Укажите правильные имена колонок из ваших файлов!\n",
    "# Имена колонок после обработки в loader.py\n",
    "TEMP_DATE_COL = 'Date' \n",
    "TEMP_VALUE_COL = 'Temperature' \n",
    "\n",
    "try:\n",
    "    # Шаг 1: Унификация временных меток\n",
    "    # Убедитесь, что колонка TEMP_DATE_COL существует и содержит корректные даты\n",
    "    df_temp_processed = cleaner.unify_timestamps(df_temp_raw.copy(), date_col=TEMP_DATE_COL, target_format=config.DATE_FORMAT)\n",
    "\n",
    "    # Проверим, есть ли дубликаты в индексе\n",
    "    if df_temp_processed.index.has_duplicates:\n",
    "        print(f\"Обнаружены дубликаты в индексе ({df_temp_processed.index.duplicated().sum()} штук). Агрегируем их...\")\n",
    "        # Группируем по индексу (по дате) и применяем агрегацию (например, 'mean')\n",
    "        # Это создаст уникальный индекс перед месячной агрегацией.\n",
    "        # Используйте нужную вам функцию агрегации (mean, median, sum, first, last и т.д.)\n",
    "        df_temp_processed = df_temp_processed.groupby(level=0).mean() # level=0 означает группировку по индексу\n",
    "        # Или, если вы хотите использовать ту же агрегацию, что и для месяца:\n",
    "        # df_temp_processed = df_temp_processed.groupby(level=0).agg(config.AGGREGATION_TEMP)\n",
    "        print(\"Дубликаты в индексе агрегированы.\")\n",
    "\n",
    "    # Шаг 2: Агрегация\n",
    "    # Убедитесь, что колонка TEMP_VALUE_COL существует\n",
    "    df_temp_agg = cleaner.aggregate_monthly(df_temp_processed, value_col=TEMP_VALUE_COL, agg_func=config.AGGREGATION_TEMP)\n",
    "\n",
    "    # Шаг 3: Нормализация\n",
    "    df_temp_norm = cleaner.normalize_data(df_temp_agg, method=config.NORMALIZATION_METHOD_TEMP)\n",
    "    df_temp_norm.name = \"Temperature_Norm\"\n",
    "\n",
    "    display(Markdown(\"#### Обработанные данные температуры (первые 5 строк):\"))\n",
    "    display(df_temp_norm.head())\n",
    "    print(f\"\\nКоличество записей: {len(df_temp_norm)}\")\n",
    "\n",
    "except KeyError as e:\n",
    "    print(f\"Ошибка: Колонка {e} не найдена. Проверьте имена колонок TEMP_DATE_COL и TEMP_VALUE_COL.\")\n",
    "    raise\n",
    "except Exception as e:\n",
    "    print(f\"Ошибка при обработке данных температуры: {e}\")\n",
    "    raise"
   ]
  },
  {
   "cell_type": "markdown",
   "metadata": {},
   "source": [
    "### 4.2 Обработка вторичных данных"
   ]
  },
  {
   "cell_type": "code",
   "execution_count": 5,
   "metadata": {},
   "outputs": [
    {
     "name": "stdout",
     "output_type": "stream",
     "text": [
      "Унификация временных меток для столбца: Date\n",
      "Временные метки унифицированы и установлены в качестве индекса.\n",
      "Агрегация столбца 'Mortality' помесячно с использованием 'mean'\n",
      "Преобразование PeriodIndex в DatetimeIndex для агрегации.\n",
      "Агрегация завершена.\n",
      "Нормализация ряда с использованием метода: log\n"
     ]
    },
    {
     "data": {
      "text/markdown": [
       "#### Обработанные данные 'Mortality' (первые 5 строк):"
      ],
      "text/plain": [
       "<IPython.core.display.Markdown object>"
      ]
     },
     "metadata": {},
     "output_type": "display_data"
    },
    {
     "data": {
      "text/plain": [
       "Month\n",
       "2010-01-31    9.252442\n",
       "2010-02-28    9.166702\n",
       "2010-03-31    9.261794\n",
       "2010-04-30    9.159152\n",
       "2010-05-31    9.157151\n",
       "Freq: ME, Name: Mortality_Norm, dtype: float64"
      ]
     },
     "metadata": {},
     "output_type": "display_data"
    },
    {
     "name": "stdout",
     "output_type": "stream",
     "text": [
      "\n",
      "Количество записей: 124\n"
     ]
    }
   ],
   "source": [
    "# Важно: Укажите правильные имена колонок из ваших файлов!\n",
    "# Имена колонок после обработки в loader.py (для mortality.csv)\n",
    "SECONDARY_DATE_COL = 'Date' \n",
    "SECONDARY_VALUE_COL = config.SECONDARY_DATA_NAME\n",
    "\n",
    "try:\n",
    "    # Шаг 1: Унификация временных меток\n",
    "    df_secondary_processed = cleaner.unify_timestamps(df_secondary_raw.copy(), date_col=SECONDARY_DATE_COL, target_format=config.DATE_FORMAT)\n",
    "\n",
    "    # Шаг 2: Агрегация\n",
    "    df_secondary_agg = cleaner.aggregate_monthly(df_secondary_processed, value_col=SECONDARY_VALUE_COL, agg_func=config.AGGREGATION_SECONDARY)\n",
    "\n",
    "    # Шаг 3: Нормализация\n",
    "    df_secondary_norm = cleaner.normalize_data(df_secondary_agg, method=config.NORMALIZATION_METHOD_SECONDARY)\n",
    "    df_secondary_norm.name = f\"{config.SECONDARY_DATA_NAME}_Norm\"\n",
    "\n",
    "    display(Markdown(f\"#### Обработанные данные '{config.SECONDARY_DATA_NAME}' (первые 5 строк):\"))\n",
    "    display(df_secondary_norm.head())\n",
    "    print(f\"\\nКоличество записей: {len(df_secondary_norm)}\")\n",
    "\n",
    "except KeyError as e:\n",
    "    print(f\"Ошибка: Колонка {e} не найдена. Проверьте имена колонок SECONDARY_DATE_COL и SECONDARY_VALUE_COL.\")\n",
    "    raise\n",
    "except Exception as e:\n",
    "    print(f\"Ошибка при обработке вторичных данных: {e}\")\n",
    "    raise"
   ]
  },
  {
   "cell_type": "markdown",
   "metadata": {},
   "source": [
    "### 4.3 Объединение данных\n",
    "\n",
    "Объединяем обработанные ряды в один DataFrame, используя внутреннее соединение (`inner`) для сохранения только пересекающихся временных периодов."
   ]
  },
  {
   "cell_type": "code",
   "execution_count": 6,
   "metadata": {},
   "outputs": [
    {
     "name": "stdout",
     "output_type": "stream",
     "text": [
      "Объединение датафреймов с использованием метода: inner\n",
      "DataFrame успешно объединены.\n"
     ]
    },
    {
     "data": {
      "text/markdown": [
       "#### Объединенные данные (первые 5 строк):"
      ],
      "text/plain": [
       "<IPython.core.display.Markdown object>"
      ]
     },
     "metadata": {},
     "output_type": "display_data"
    },
    {
     "data": {
      "text/html": [
       "<div>\n",
       "<style scoped>\n",
       "    .dataframe tbody tr th:only-of-type {\n",
       "        vertical-align: middle;\n",
       "    }\n",
       "\n",
       "    .dataframe tbody tr th {\n",
       "        vertical-align: top;\n",
       "    }\n",
       "\n",
       "    .dataframe thead th {\n",
       "        text-align: right;\n",
       "    }\n",
       "</style>\n",
       "<table border=\"1\" class=\"dataframe\">\n",
       "  <thead>\n",
       "    <tr style=\"text-align: right;\">\n",
       "      <th></th>\n",
       "      <th>Temperature_Norm</th>\n",
       "      <th>Mortality_Norm</th>\n",
       "    </tr>\n",
       "    <tr>\n",
       "      <th>Month</th>\n",
       "      <th></th>\n",
       "      <th></th>\n",
       "    </tr>\n",
       "  </thead>\n",
       "  <tbody>\n",
       "    <tr>\n",
       "      <th>2010-01-31</th>\n",
       "      <td>-2.188679</td>\n",
       "      <td>9.252442</td>\n",
       "    </tr>\n",
       "    <tr>\n",
       "      <th>2010-02-28</th>\n",
       "      <td>-1.570865</td>\n",
       "      <td>9.166702</td>\n",
       "    </tr>\n",
       "    <tr>\n",
       "      <th>2010-03-31</th>\n",
       "      <td>-0.826430</td>\n",
       "      <td>9.261794</td>\n",
       "    </tr>\n",
       "    <tr>\n",
       "      <th>2010-04-30</th>\n",
       "      <td>0.131968</td>\n",
       "      <td>9.159152</td>\n",
       "    </tr>\n",
       "    <tr>\n",
       "      <th>2010-05-31</th>\n",
       "      <td>0.986622</td>\n",
       "      <td>9.157151</td>\n",
       "    </tr>\n",
       "  </tbody>\n",
       "</table>\n",
       "</div>"
      ],
      "text/plain": [
       "            Temperature_Norm  Mortality_Norm\n",
       "Month                                       \n",
       "2010-01-31         -2.188679        9.252442\n",
       "2010-02-28         -1.570865        9.166702\n",
       "2010-03-31         -0.826430        9.261794\n",
       "2010-04-30          0.131968        9.159152\n",
       "2010-05-31          0.986622        9.157151"
      ]
     },
     "metadata": {},
     "output_type": "display_data"
    },
    {
     "name": "stdout",
     "output_type": "stream",
     "text": [
      "\n",
      "Итоговое количество записей: 124\n",
      "Временной диапазон: 2010-01-31 00:00:00 - 2020-04-30 00:00:00\n",
      "Проверка полноты объединенных данных...\n",
      "Пропущенные значения не обнаружены.\n",
      "Индекс временного ряда непрерывный (нет пропусков).\n"
     ]
    }
   ],
   "source": [
    "try:\n",
    "    df_merged = merger.merge_dataframes(df_temp_norm.to_frame(), df_secondary_norm.to_frame(), how='inner')\n",
    "\n",
    "    display(Markdown(\"#### Объединенные данные (первые 5 строк):\"))\n",
    "    display(df_merged.head())\n",
    "    print(f\"\\nИтоговое количество записей: {len(df_merged)}\")\n",
    "    print(f\"Временной диапазон: {df_merged.index.min()} - {df_merged.index.max()}\")\n",
    "\n",
    "    # Проверка на пропуски после объединения\n",
    "    merger.check_completeness(df_merged)\n",
    "\n",
    "except Exception as e:\n",
    "    print(f\"Ошибка при объединении данных: {e}\")\n",
    "    raise"
   ]
  },
  {
   "cell_type": "markdown",
   "metadata": {},
   "source": [
    "## 5. Визуализация Обработанных Рядов\n",
    "\n",
    "Строим графики объединенных и нормализованных временных рядов."
   ]
  },
  {
   "cell_type": "code",
   "execution_count": 7,
   "metadata": {},
   "outputs": [
    {
     "name": "stdout",
     "output_type": "stream",
     "text": [
      "Запрошено интерактивное построение графиков (требуется Plotly).\n"
     ]
    },
    {
     "data": {
      "application/vnd.plotly.v1+json": {
       "config": {
        "plotlyServerURL": "https://plot.ly"
       },
       "data": [
        {
         "hovertemplate": "variable=Temperature_Norm<br>Time=%{x}<br>Value=%{y}<extra></extra>",
         "legendgroup": "Temperature_Norm",
         "line": {
          "color": "#636efa",
          "dash": "solid"
         },
         "marker": {
          "symbol": "circle"
         },
         "mode": "lines",
         "name": "Temperature_Norm",
         "orientation": "v",
         "showlegend": true,
         "type": "scatter",
         "x": [
          "2010-01-31T00:00:00.000000000",
          "2010-02-28T00:00:00.000000000",
          "2010-03-31T00:00:00.000000000",
          "2010-04-30T00:00:00.000000000",
          "2010-05-31T00:00:00.000000000",
          "2010-06-30T00:00:00.000000000",
          "2010-07-31T00:00:00.000000000",
          "2010-08-31T00:00:00.000000000",
          "2010-09-30T00:00:00.000000000",
          "2010-10-31T00:00:00.000000000",
          "2010-11-30T00:00:00.000000000",
          "2010-12-31T00:00:00.000000000",
          "2011-01-31T00:00:00.000000000",
          "2011-02-28T00:00:00.000000000",
          "2011-03-31T00:00:00.000000000",
          "2011-04-30T00:00:00.000000000",
          "2011-05-31T00:00:00.000000000",
          "2011-06-30T00:00:00.000000000",
          "2011-07-31T00:00:00.000000000",
          "2011-08-31T00:00:00.000000000",
          "2011-09-30T00:00:00.000000000",
          "2011-10-31T00:00:00.000000000",
          "2011-11-30T00:00:00.000000000",
          "2011-12-31T00:00:00.000000000",
          "2012-01-31T00:00:00.000000000",
          "2012-02-29T00:00:00.000000000",
          "2012-03-31T00:00:00.000000000",
          "2012-04-30T00:00:00.000000000",
          "2012-05-31T00:00:00.000000000",
          "2012-06-30T00:00:00.000000000",
          "2012-07-31T00:00:00.000000000",
          "2012-08-31T00:00:00.000000000",
          "2012-09-30T00:00:00.000000000",
          "2012-10-31T00:00:00.000000000",
          "2012-11-30T00:00:00.000000000",
          "2012-12-31T00:00:00.000000000",
          "2013-01-31T00:00:00.000000000",
          "2013-02-28T00:00:00.000000000",
          "2013-03-31T00:00:00.000000000",
          "2013-04-30T00:00:00.000000000",
          "2013-05-31T00:00:00.000000000",
          "2013-06-30T00:00:00.000000000",
          "2013-07-31T00:00:00.000000000",
          "2013-08-31T00:00:00.000000000",
          "2013-09-30T00:00:00.000000000",
          "2013-10-31T00:00:00.000000000",
          "2013-11-30T00:00:00.000000000",
          "2013-12-31T00:00:00.000000000",
          "2014-01-31T00:00:00.000000000",
          "2014-02-28T00:00:00.000000000",
          "2014-03-31T00:00:00.000000000",
          "2014-04-30T00:00:00.000000000",
          "2014-05-31T00:00:00.000000000",
          "2014-06-30T00:00:00.000000000",
          "2014-07-31T00:00:00.000000000",
          "2014-08-31T00:00:00.000000000",
          "2014-09-30T00:00:00.000000000",
          "2014-10-31T00:00:00.000000000",
          "2014-11-30T00:00:00.000000000",
          "2014-12-31T00:00:00.000000000",
          "2015-01-31T00:00:00.000000000",
          "2015-02-28T00:00:00.000000000",
          "2015-03-31T00:00:00.000000000",
          "2015-04-30T00:00:00.000000000",
          "2015-05-31T00:00:00.000000000",
          "2015-06-30T00:00:00.000000000",
          "2015-07-31T00:00:00.000000000",
          "2015-08-31T00:00:00.000000000",
          "2015-09-30T00:00:00.000000000",
          "2015-10-31T00:00:00.000000000",
          "2015-11-30T00:00:00.000000000",
          "2015-12-31T00:00:00.000000000",
          "2016-01-31T00:00:00.000000000",
          "2016-02-29T00:00:00.000000000",
          "2016-03-31T00:00:00.000000000",
          "2016-04-30T00:00:00.000000000",
          "2016-05-31T00:00:00.000000000",
          "2016-06-30T00:00:00.000000000",
          "2016-07-31T00:00:00.000000000",
          "2016-08-31T00:00:00.000000000",
          "2016-09-30T00:00:00.000000000",
          "2016-10-31T00:00:00.000000000",
          "2016-11-30T00:00:00.000000000",
          "2016-12-31T00:00:00.000000000",
          "2017-01-31T00:00:00.000000000",
          "2017-02-28T00:00:00.000000000",
          "2017-03-31T00:00:00.000000000",
          "2017-04-30T00:00:00.000000000",
          "2017-05-31T00:00:00.000000000",
          "2017-06-30T00:00:00.000000000",
          "2017-07-31T00:00:00.000000000",
          "2017-08-31T00:00:00.000000000",
          "2017-09-30T00:00:00.000000000",
          "2017-10-31T00:00:00.000000000",
          "2017-11-30T00:00:00.000000000",
          "2017-12-31T00:00:00.000000000",
          "2018-01-31T00:00:00.000000000",
          "2018-02-28T00:00:00.000000000",
          "2018-03-31T00:00:00.000000000",
          "2018-04-30T00:00:00.000000000",
          "2018-05-31T00:00:00.000000000",
          "2018-06-30T00:00:00.000000000",
          "2018-07-31T00:00:00.000000000",
          "2018-08-31T00:00:00.000000000",
          "2018-09-30T00:00:00.000000000",
          "2018-10-31T00:00:00.000000000",
          "2018-11-30T00:00:00.000000000",
          "2018-12-31T00:00:00.000000000",
          "2019-01-31T00:00:00.000000000",
          "2019-02-28T00:00:00.000000000",
          "2019-03-31T00:00:00.000000000",
          "2019-04-30T00:00:00.000000000",
          "2019-05-31T00:00:00.000000000",
          "2019-06-30T00:00:00.000000000",
          "2019-07-31T00:00:00.000000000",
          "2019-08-31T00:00:00.000000000",
          "2019-09-30T00:00:00.000000000",
          "2019-10-31T00:00:00.000000000",
          "2019-11-30T00:00:00.000000000",
          "2019-12-31T00:00:00.000000000",
          "2020-01-31T00:00:00.000000000",
          "2020-02-29T00:00:00.000000000",
          "2020-03-31T00:00:00.000000000",
          "2020-04-30T00:00:00.000000000"
         ],
         "xaxis": "x",
         "y": {
          "bdata": "vz7SG2qCAcBVIJA1QyL5v/uBqacccuq/O9jpJ1LkwD8rj2W9Z5LvP4GN4jujHPM/jAfkILH3/j+mZ2c9Vvz3P8HNEQibpN4/+UUn1FO+1L/iYJ3YRtXbv5RYNZC31/e/lCM2DI6Y97+mK51FjE79v4quIui+au2/7MhzK6czr7+vc/5djazoP/0boTvXlvM/AJ3Wtw6r+j+02a2zrwPzP+a6bIPsdeA/tCMl5x34o7/ptu5n+hXmv6ytCoDZU+e/mRqhZ7eD9r96T1mcCWv+v0H/o6Syh/C/XnDHUXQjvj9vWR9dJ03qP5WYW72UXPA/dWfI0pWd9j9EF50XNnPxPxrEB4J8EOM/6z6G7D5Yqb+Tp0FqCr/hvx58S02Rbfm//RrfPDhB+b9b85RnjBjxv6N7cbosFPa/l4FPkZvYt7+fx4C9JRfwP0DV87pm2vQ/9ZuG1GFc8z9bTDhZQ07yP6MT/wxrcdU/D8MrejD+pr9qlhzdnG/TvzPsrQkpduy/LhKCEylk+b8G/P5RJOfsv/ncqtC7QNu/wFOMuHO/Yr84SKPfiVDtP+msVHwPte0/LUSGTmfb9j8GnLuiTNHzP3LE8oKqWeE/uMFJy5rg1b/5mzllOCTrv+BOWQ/KvPG/94P0UNeX8r8gFL/jDeftv/zPmN4+Y+C/aLU3kQsFuL9J5lM1NoLnP9qznrxNvfE/ceLVDtRr8j/Hx1FJ9CfxP75oW4BcMOY/WeR5QZ0R0b+uBvBofzXkv7s6RbKhDua/6ss4M3Da+7+NxpGSfePov5TZcbJPu+W/JqEmUrRxvT997+4zxhzqPz76YDyQMPI/HHlQBKal9j8FBrqqn0/0P5o/PgmVc9w/9fUzlLvL0L9Pq+ZiKHvvv2Q9CVmB7PK/hPf9TUkg+L/eF8jvXtvyv+H3m99NMd6/x7Erwx0qxr8h2w3RZ27ZP+EyTn8PJ+g/htl1OOjL8T/vmx/laDXzP2XCzYHNfOM/eMdrJMacyb/49ZZn17nmv1RVlKmW3ea/mpUVk+548r8NC2gQ+zn6v+L2Ui8WtvO/XJzAVgzatD/gwykZ7dbtPwXSIz27xPA/14ERcNHm9T+/F3eqmsz0P2t483560Og/rXfWHcX8oD+6Y3lmF8/ov+9gHxZbgvS/YiOXoc059r8jn7zSB4Xrv3ikb4FJueS/v+t5UizWvD95dHoIjyfuP6BtI7uGgfQ/y9WFg6iy7z+6NlMpQYDuP3LE8oKqWeE//y02hyr8xz/Y0aNqvAfhv7mSS5JVFeS/mnjWLcWf5r95f9Rvi9LnvwoRXR4V9NS/NdTkv4lIzL8=",
          "dtype": "f8"
         },
         "yaxis": "y"
        },
        {
         "hovertemplate": "variable=Mortality_Norm<br>Time=%{x}<br>Value=%{y}<extra></extra>",
         "legendgroup": "Mortality_Norm",
         "line": {
          "color": "#EF553B",
          "dash": "solid"
         },
         "marker": {
          "symbol": "circle"
         },
         "mode": "lines",
         "name": "Mortality_Norm",
         "orientation": "v",
         "showlegend": true,
         "type": "scatter",
         "x": [
          "2010-01-31T00:00:00.000000000",
          "2010-02-28T00:00:00.000000000",
          "2010-03-31T00:00:00.000000000",
          "2010-04-30T00:00:00.000000000",
          "2010-05-31T00:00:00.000000000",
          "2010-06-30T00:00:00.000000000",
          "2010-07-31T00:00:00.000000000",
          "2010-08-31T00:00:00.000000000",
          "2010-09-30T00:00:00.000000000",
          "2010-10-31T00:00:00.000000000",
          "2010-11-30T00:00:00.000000000",
          "2010-12-31T00:00:00.000000000",
          "2011-01-31T00:00:00.000000000",
          "2011-02-28T00:00:00.000000000",
          "2011-03-31T00:00:00.000000000",
          "2011-04-30T00:00:00.000000000",
          "2011-05-31T00:00:00.000000000",
          "2011-06-30T00:00:00.000000000",
          "2011-07-31T00:00:00.000000000",
          "2011-08-31T00:00:00.000000000",
          "2011-09-30T00:00:00.000000000",
          "2011-10-31T00:00:00.000000000",
          "2011-11-30T00:00:00.000000000",
          "2011-12-31T00:00:00.000000000",
          "2012-01-31T00:00:00.000000000",
          "2012-02-29T00:00:00.000000000",
          "2012-03-31T00:00:00.000000000",
          "2012-04-30T00:00:00.000000000",
          "2012-05-31T00:00:00.000000000",
          "2012-06-30T00:00:00.000000000",
          "2012-07-31T00:00:00.000000000",
          "2012-08-31T00:00:00.000000000",
          "2012-09-30T00:00:00.000000000",
          "2012-10-31T00:00:00.000000000",
          "2012-11-30T00:00:00.000000000",
          "2012-12-31T00:00:00.000000000",
          "2013-01-31T00:00:00.000000000",
          "2013-02-28T00:00:00.000000000",
          "2013-03-31T00:00:00.000000000",
          "2013-04-30T00:00:00.000000000",
          "2013-05-31T00:00:00.000000000",
          "2013-06-30T00:00:00.000000000",
          "2013-07-31T00:00:00.000000000",
          "2013-08-31T00:00:00.000000000",
          "2013-09-30T00:00:00.000000000",
          "2013-10-31T00:00:00.000000000",
          "2013-11-30T00:00:00.000000000",
          "2013-12-31T00:00:00.000000000",
          "2014-01-31T00:00:00.000000000",
          "2014-02-28T00:00:00.000000000",
          "2014-03-31T00:00:00.000000000",
          "2014-04-30T00:00:00.000000000",
          "2014-05-31T00:00:00.000000000",
          "2014-06-30T00:00:00.000000000",
          "2014-07-31T00:00:00.000000000",
          "2014-08-31T00:00:00.000000000",
          "2014-09-30T00:00:00.000000000",
          "2014-10-31T00:00:00.000000000",
          "2014-11-30T00:00:00.000000000",
          "2014-12-31T00:00:00.000000000",
          "2015-01-31T00:00:00.000000000",
          "2015-02-28T00:00:00.000000000",
          "2015-03-31T00:00:00.000000000",
          "2015-04-30T00:00:00.000000000",
          "2015-05-31T00:00:00.000000000",
          "2015-06-30T00:00:00.000000000",
          "2015-07-31T00:00:00.000000000",
          "2015-08-31T00:00:00.000000000",
          "2015-09-30T00:00:00.000000000",
          "2015-10-31T00:00:00.000000000",
          "2015-11-30T00:00:00.000000000",
          "2015-12-31T00:00:00.000000000",
          "2016-01-31T00:00:00.000000000",
          "2016-02-29T00:00:00.000000000",
          "2016-03-31T00:00:00.000000000",
          "2016-04-30T00:00:00.000000000",
          "2016-05-31T00:00:00.000000000",
          "2016-06-30T00:00:00.000000000",
          "2016-07-31T00:00:00.000000000",
          "2016-08-31T00:00:00.000000000",
          "2016-09-30T00:00:00.000000000",
          "2016-10-31T00:00:00.000000000",
          "2016-11-30T00:00:00.000000000",
          "2016-12-31T00:00:00.000000000",
          "2017-01-31T00:00:00.000000000",
          "2017-02-28T00:00:00.000000000",
          "2017-03-31T00:00:00.000000000",
          "2017-04-30T00:00:00.000000000",
          "2017-05-31T00:00:00.000000000",
          "2017-06-30T00:00:00.000000000",
          "2017-07-31T00:00:00.000000000",
          "2017-08-31T00:00:00.000000000",
          "2017-09-30T00:00:00.000000000",
          "2017-10-31T00:00:00.000000000",
          "2017-11-30T00:00:00.000000000",
          "2017-12-31T00:00:00.000000000",
          "2018-01-31T00:00:00.000000000",
          "2018-02-28T00:00:00.000000000",
          "2018-03-31T00:00:00.000000000",
          "2018-04-30T00:00:00.000000000",
          "2018-05-31T00:00:00.000000000",
          "2018-06-30T00:00:00.000000000",
          "2018-07-31T00:00:00.000000000",
          "2018-08-31T00:00:00.000000000",
          "2018-09-30T00:00:00.000000000",
          "2018-10-31T00:00:00.000000000",
          "2018-11-30T00:00:00.000000000",
          "2018-12-31T00:00:00.000000000",
          "2019-01-31T00:00:00.000000000",
          "2019-02-28T00:00:00.000000000",
          "2019-03-31T00:00:00.000000000",
          "2019-04-30T00:00:00.000000000",
          "2019-05-31T00:00:00.000000000",
          "2019-06-30T00:00:00.000000000",
          "2019-07-31T00:00:00.000000000",
          "2019-08-31T00:00:00.000000000",
          "2019-09-30T00:00:00.000000000",
          "2019-10-31T00:00:00.000000000",
          "2019-11-30T00:00:00.000000000",
          "2019-12-31T00:00:00.000000000",
          "2020-01-31T00:00:00.000000000",
          "2020-02-29T00:00:00.000000000",
          "2020-03-31T00:00:00.000000000",
          "2020-04-30T00:00:00.000000000"
         ],
         "xaxis": "x",
         "y": {
          "bdata": "J5TBBECBIkAVwBH0WVUiQJO5WNEJhiJADZc1anxRIkC3bzkJdlAiQL98pR/+UiJAkikN9kAkI0DC+GyX1jsjQBXAEfRZVSJAnXRJjEhJIkAjx02M5joiQOPVuQYyWiJAaZyCinJxIkB0e2EFYDYiQP7+BNJoZSJAgs/dyxpFIkAwNqVcnUEiQPYXOvLyHiJAmPEJv18wIkCqpZVxYUUiQKh3DeBcPCJAOQvFHopXIkDnKnnUik8iQNajYLrqTSJApm7qq55zIkB7KipYnmAiQKOHaPHJcCJAnhX6YlpQIkATGRe3N08iQCDkHfWjMyJAVtvq+JxAIkB5KNiWHEAiQIfpHwzWQiJACH/fWFWEIkA1Opa1kFUiQHFuYw1eiCJADcoykvykIkBLSCnQy0siQBV9uSP6byJA24k29DxmIkAEGApJXV0iQEmoNBiwGSJAGZgXTyRLIkAFw1PvYkQiQH0TlSGPQSJAVESsyfZyIkBFeM/V3E0iQKvU+XoAaiJAdKg8+F97IkAtPbVv8kIiQKasK/KieCJAz68kabhlIkCb1NQ6yXYiQDZaxmNoMSJAX40we/VTIkDhr3cA0DgiQE3uw0pyYiJAqpSozpJ7IkAi0o8qIjgiQNSf9LBKkiJAE5Ocu3GeIkBGtp2MHXMiQMReOMIolyJALjqjgWJ5IkB0JOavT14iQJPkrGxmWSJAFIxsdlZYIkBsysnbg1AiQE3uw0pyYiJAeqopMouHIkBCJjdcT2oiQOKbNjXbkyJA1XeItOW6IkCIG5dT0nsiQJUIj5rveCJAKJK5krxnIkCm2QX3vHAiQGq+eFsnXSJAVTg/k4pKIkDf3TIV120iQOUFSvF8YyJASY2jIRx9IkDMH+ktiHUiQLTW0PuyzCJA29U7t/LCIkAH7QlNSUwiQKiqKVJ7dSJAeoqxLCNVIkD9EUFU82kiQIqZZelORyJANyjE0nVaIkCG3IiBmlgiQHSdPy4aTSJAUw4g3i+EIkDnoqZ8IlkiQDisni/acSJA6BmbgemPIkCtaWvVSGsiQJ8PtcdZviJAAIDrZvuVIkAJpspXlGQiQAOE7/RNYCJAVzNQIrtQIkCaespUCVoiQOLMxlPVQyJAMCzY30+LIkDPryRpuGUiQPyTmk2HhCJAXckUiZWyIkBV+VIR/GAiQGTEudDBbiJAiz67QPNrIkCQ/pdzDWwiQEkaIfjFRCJAXGfkBZZwIkDYvfDD2FYiQN20SG+7XCJAV3+YitGCIkB1cCUTyV0iQDJ4OG6whyJAwLykfKmYIkANJEt1JmUiQKZjTD5WeCJAcgjLAW7CIkA=",
          "dtype": "f8"
         },
         "yaxis": "y"
        }
       ],
       "layout": {
        "legend": {
         "title": {
          "text": "Variables"
         },
         "tracegroupgap": 0
        },
        "template": {
         "data": {
          "bar": [
           {
            "error_x": {
             "color": "#2a3f5f"
            },
            "error_y": {
             "color": "#2a3f5f"
            },
            "marker": {
             "line": {
              "color": "#E5ECF6",
              "width": 0.5
             },
             "pattern": {
              "fillmode": "overlay",
              "size": 10,
              "solidity": 0.2
             }
            },
            "type": "bar"
           }
          ],
          "barpolar": [
           {
            "marker": {
             "line": {
              "color": "#E5ECF6",
              "width": 0.5
             },
             "pattern": {
              "fillmode": "overlay",
              "size": 10,
              "solidity": 0.2
             }
            },
            "type": "barpolar"
           }
          ],
          "carpet": [
           {
            "aaxis": {
             "endlinecolor": "#2a3f5f",
             "gridcolor": "white",
             "linecolor": "white",
             "minorgridcolor": "white",
             "startlinecolor": "#2a3f5f"
            },
            "baxis": {
             "endlinecolor": "#2a3f5f",
             "gridcolor": "white",
             "linecolor": "white",
             "minorgridcolor": "white",
             "startlinecolor": "#2a3f5f"
            },
            "type": "carpet"
           }
          ],
          "choropleth": [
           {
            "colorbar": {
             "outlinewidth": 0,
             "ticks": ""
            },
            "type": "choropleth"
           }
          ],
          "contour": [
           {
            "colorbar": {
             "outlinewidth": 0,
             "ticks": ""
            },
            "colorscale": [
             [
              0,
              "#0d0887"
             ],
             [
              0.1111111111111111,
              "#46039f"
             ],
             [
              0.2222222222222222,
              "#7201a8"
             ],
             [
              0.3333333333333333,
              "#9c179e"
             ],
             [
              0.4444444444444444,
              "#bd3786"
             ],
             [
              0.5555555555555556,
              "#d8576b"
             ],
             [
              0.6666666666666666,
              "#ed7953"
             ],
             [
              0.7777777777777778,
              "#fb9f3a"
             ],
             [
              0.8888888888888888,
              "#fdca26"
             ],
             [
              1,
              "#f0f921"
             ]
            ],
            "type": "contour"
           }
          ],
          "contourcarpet": [
           {
            "colorbar": {
             "outlinewidth": 0,
             "ticks": ""
            },
            "type": "contourcarpet"
           }
          ],
          "heatmap": [
           {
            "colorbar": {
             "outlinewidth": 0,
             "ticks": ""
            },
            "colorscale": [
             [
              0,
              "#0d0887"
             ],
             [
              0.1111111111111111,
              "#46039f"
             ],
             [
              0.2222222222222222,
              "#7201a8"
             ],
             [
              0.3333333333333333,
              "#9c179e"
             ],
             [
              0.4444444444444444,
              "#bd3786"
             ],
             [
              0.5555555555555556,
              "#d8576b"
             ],
             [
              0.6666666666666666,
              "#ed7953"
             ],
             [
              0.7777777777777778,
              "#fb9f3a"
             ],
             [
              0.8888888888888888,
              "#fdca26"
             ],
             [
              1,
              "#f0f921"
             ]
            ],
            "type": "heatmap"
           }
          ],
          "histogram": [
           {
            "marker": {
             "pattern": {
              "fillmode": "overlay",
              "size": 10,
              "solidity": 0.2
             }
            },
            "type": "histogram"
           }
          ],
          "histogram2d": [
           {
            "colorbar": {
             "outlinewidth": 0,
             "ticks": ""
            },
            "colorscale": [
             [
              0,
              "#0d0887"
             ],
             [
              0.1111111111111111,
              "#46039f"
             ],
             [
              0.2222222222222222,
              "#7201a8"
             ],
             [
              0.3333333333333333,
              "#9c179e"
             ],
             [
              0.4444444444444444,
              "#bd3786"
             ],
             [
              0.5555555555555556,
              "#d8576b"
             ],
             [
              0.6666666666666666,
              "#ed7953"
             ],
             [
              0.7777777777777778,
              "#fb9f3a"
             ],
             [
              0.8888888888888888,
              "#fdca26"
             ],
             [
              1,
              "#f0f921"
             ]
            ],
            "type": "histogram2d"
           }
          ],
          "histogram2dcontour": [
           {
            "colorbar": {
             "outlinewidth": 0,
             "ticks": ""
            },
            "colorscale": [
             [
              0,
              "#0d0887"
             ],
             [
              0.1111111111111111,
              "#46039f"
             ],
             [
              0.2222222222222222,
              "#7201a8"
             ],
             [
              0.3333333333333333,
              "#9c179e"
             ],
             [
              0.4444444444444444,
              "#bd3786"
             ],
             [
              0.5555555555555556,
              "#d8576b"
             ],
             [
              0.6666666666666666,
              "#ed7953"
             ],
             [
              0.7777777777777778,
              "#fb9f3a"
             ],
             [
              0.8888888888888888,
              "#fdca26"
             ],
             [
              1,
              "#f0f921"
             ]
            ],
            "type": "histogram2dcontour"
           }
          ],
          "mesh3d": [
           {
            "colorbar": {
             "outlinewidth": 0,
             "ticks": ""
            },
            "type": "mesh3d"
           }
          ],
          "parcoords": [
           {
            "line": {
             "colorbar": {
              "outlinewidth": 0,
              "ticks": ""
             }
            },
            "type": "parcoords"
           }
          ],
          "pie": [
           {
            "automargin": true,
            "type": "pie"
           }
          ],
          "scatter": [
           {
            "fillpattern": {
             "fillmode": "overlay",
             "size": 10,
             "solidity": 0.2
            },
            "type": "scatter"
           }
          ],
          "scatter3d": [
           {
            "line": {
             "colorbar": {
              "outlinewidth": 0,
              "ticks": ""
             }
            },
            "marker": {
             "colorbar": {
              "outlinewidth": 0,
              "ticks": ""
             }
            },
            "type": "scatter3d"
           }
          ],
          "scattercarpet": [
           {
            "marker": {
             "colorbar": {
              "outlinewidth": 0,
              "ticks": ""
             }
            },
            "type": "scattercarpet"
           }
          ],
          "scattergeo": [
           {
            "marker": {
             "colorbar": {
              "outlinewidth": 0,
              "ticks": ""
             }
            },
            "type": "scattergeo"
           }
          ],
          "scattergl": [
           {
            "marker": {
             "colorbar": {
              "outlinewidth": 0,
              "ticks": ""
             }
            },
            "type": "scattergl"
           }
          ],
          "scattermap": [
           {
            "marker": {
             "colorbar": {
              "outlinewidth": 0,
              "ticks": ""
             }
            },
            "type": "scattermap"
           }
          ],
          "scattermapbox": [
           {
            "marker": {
             "colorbar": {
              "outlinewidth": 0,
              "ticks": ""
             }
            },
            "type": "scattermapbox"
           }
          ],
          "scatterpolar": [
           {
            "marker": {
             "colorbar": {
              "outlinewidth": 0,
              "ticks": ""
             }
            },
            "type": "scatterpolar"
           }
          ],
          "scatterpolargl": [
           {
            "marker": {
             "colorbar": {
              "outlinewidth": 0,
              "ticks": ""
             }
            },
            "type": "scatterpolargl"
           }
          ],
          "scatterternary": [
           {
            "marker": {
             "colorbar": {
              "outlinewidth": 0,
              "ticks": ""
             }
            },
            "type": "scatterternary"
           }
          ],
          "surface": [
           {
            "colorbar": {
             "outlinewidth": 0,
             "ticks": ""
            },
            "colorscale": [
             [
              0,
              "#0d0887"
             ],
             [
              0.1111111111111111,
              "#46039f"
             ],
             [
              0.2222222222222222,
              "#7201a8"
             ],
             [
              0.3333333333333333,
              "#9c179e"
             ],
             [
              0.4444444444444444,
              "#bd3786"
             ],
             [
              0.5555555555555556,
              "#d8576b"
             ],
             [
              0.6666666666666666,
              "#ed7953"
             ],
             [
              0.7777777777777778,
              "#fb9f3a"
             ],
             [
              0.8888888888888888,
              "#fdca26"
             ],
             [
              1,
              "#f0f921"
             ]
            ],
            "type": "surface"
           }
          ],
          "table": [
           {
            "cells": {
             "fill": {
              "color": "#EBF0F8"
             },
             "line": {
              "color": "white"
             }
            },
            "header": {
             "fill": {
              "color": "#C8D4E3"
             },
             "line": {
              "color": "white"
             }
            },
            "type": "table"
           }
          ]
         },
         "layout": {
          "annotationdefaults": {
           "arrowcolor": "#2a3f5f",
           "arrowhead": 0,
           "arrowwidth": 1
          },
          "autotypenumbers": "strict",
          "coloraxis": {
           "colorbar": {
            "outlinewidth": 0,
            "ticks": ""
           }
          },
          "colorscale": {
           "diverging": [
            [
             0,
             "#8e0152"
            ],
            [
             0.1,
             "#c51b7d"
            ],
            [
             0.2,
             "#de77ae"
            ],
            [
             0.3,
             "#f1b6da"
            ],
            [
             0.4,
             "#fde0ef"
            ],
            [
             0.5,
             "#f7f7f7"
            ],
            [
             0.6,
             "#e6f5d0"
            ],
            [
             0.7,
             "#b8e186"
            ],
            [
             0.8,
             "#7fbc41"
            ],
            [
             0.9,
             "#4d9221"
            ],
            [
             1,
             "#276419"
            ]
           ],
           "sequential": [
            [
             0,
             "#0d0887"
            ],
            [
             0.1111111111111111,
             "#46039f"
            ],
            [
             0.2222222222222222,
             "#7201a8"
            ],
            [
             0.3333333333333333,
             "#9c179e"
            ],
            [
             0.4444444444444444,
             "#bd3786"
            ],
            [
             0.5555555555555556,
             "#d8576b"
            ],
            [
             0.6666666666666666,
             "#ed7953"
            ],
            [
             0.7777777777777778,
             "#fb9f3a"
            ],
            [
             0.8888888888888888,
             "#fdca26"
            ],
            [
             1,
             "#f0f921"
            ]
           ],
           "sequentialminus": [
            [
             0,
             "#0d0887"
            ],
            [
             0.1111111111111111,
             "#46039f"
            ],
            [
             0.2222222222222222,
             "#7201a8"
            ],
            [
             0.3333333333333333,
             "#9c179e"
            ],
            [
             0.4444444444444444,
             "#bd3786"
            ],
            [
             0.5555555555555556,
             "#d8576b"
            ],
            [
             0.6666666666666666,
             "#ed7953"
            ],
            [
             0.7777777777777778,
             "#fb9f3a"
            ],
            [
             0.8888888888888888,
             "#fdca26"
            ],
            [
             1,
             "#f0f921"
            ]
           ]
          },
          "colorway": [
           "#636efa",
           "#EF553B",
           "#00cc96",
           "#ab63fa",
           "#FFA15A",
           "#19d3f3",
           "#FF6692",
           "#B6E880",
           "#FF97FF",
           "#FECB52"
          ],
          "font": {
           "color": "#2a3f5f"
          },
          "geo": {
           "bgcolor": "white",
           "lakecolor": "white",
           "landcolor": "#E5ECF6",
           "showlakes": true,
           "showland": true,
           "subunitcolor": "white"
          },
          "hoverlabel": {
           "align": "left"
          },
          "hovermode": "closest",
          "mapbox": {
           "style": "light"
          },
          "paper_bgcolor": "white",
          "plot_bgcolor": "#E5ECF6",
          "polar": {
           "angularaxis": {
            "gridcolor": "white",
            "linecolor": "white",
            "ticks": ""
           },
           "bgcolor": "#E5ECF6",
           "radialaxis": {
            "gridcolor": "white",
            "linecolor": "white",
            "ticks": ""
           }
          },
          "scene": {
           "xaxis": {
            "backgroundcolor": "#E5ECF6",
            "gridcolor": "white",
            "gridwidth": 2,
            "linecolor": "white",
            "showbackground": true,
            "ticks": "",
            "zerolinecolor": "white"
           },
           "yaxis": {
            "backgroundcolor": "#E5ECF6",
            "gridcolor": "white",
            "gridwidth": 2,
            "linecolor": "white",
            "showbackground": true,
            "ticks": "",
            "zerolinecolor": "white"
           },
           "zaxis": {
            "backgroundcolor": "#E5ECF6",
            "gridcolor": "white",
            "gridwidth": 2,
            "linecolor": "white",
            "showbackground": true,
            "ticks": "",
            "zerolinecolor": "white"
           }
          },
          "shapedefaults": {
           "line": {
            "color": "#2a3f5f"
           }
          },
          "ternary": {
           "aaxis": {
            "gridcolor": "white",
            "linecolor": "white",
            "ticks": ""
           },
           "baxis": {
            "gridcolor": "white",
            "linecolor": "white",
            "ticks": ""
           },
           "bgcolor": "#E5ECF6",
           "caxis": {
            "gridcolor": "white",
            "linecolor": "white",
            "ticks": ""
           }
          },
          "title": {
           "x": 0.05
          },
          "xaxis": {
           "automargin": true,
           "gridcolor": "white",
           "linecolor": "white",
           "ticks": "",
           "title": {
            "standoff": 15
           },
           "zerolinecolor": "white",
           "zerolinewidth": 2
          },
          "yaxis": {
           "automargin": true,
           "gridcolor": "white",
           "linecolor": "white",
           "ticks": "",
           "title": {
            "standoff": 15
           },
           "zerolinecolor": "white",
           "zerolinewidth": 2
          }
         }
        },
        "title": {
         "text": "Обработанные и объединенные временные ряды (Интерактивно)"
        },
        "xaxis": {
         "anchor": "y",
         "domain": [
          0,
          1
         ],
         "title": {
          "text": "Time"
         }
        },
        "yaxis": {
         "anchor": "x",
         "domain": [
          0,
          1
         ],
         "title": {
          "text": "Value"
         }
        }
       }
      }
     },
     "metadata": {},
     "output_type": "display_data"
    }
   ],
   "source": [
    "if config.INTERACTIVE_PLOTS:\n",
    "    try:\n",
    "        time_series.plot_time_series_interactive(df_merged, title=\"Обработанные и объединенные временные ряды (Интерактивно)\")\n",
    "    except Exception as e:\n",
    "        print(f\"Ошибка при построении интерактивного графика: {e}. Попробуем статический график.\")\n",
    "        time_series.plot_time_series(df_merged, title=\"Обработанные и объединенные временные ряды\")\n",
    "else:\n",
    "    time_series.plot_time_series(df_merged, title=\"Обработанные и объединенные временные ряды\")"
   ]
  },
  {
   "cell_type": "markdown",
   "metadata": {},
   "source": [
    "## 6. Проверка Стационарности\n",
    "\n",
    "Проверяем ряды на стационарность с помощью тестов ADF (Augmented Dickey-Fuller) и KPSS (Kwiatkowski-Phillips-Schmidt-Shin).\n",
    "\n",
    "-   **ADF Тест:**\n",
    "    -   H0: Ряд имеет единичный корень (нестационарен).\n",
    "    -   H1: Ряд не имеет единичного корня (стационарен).\n",
    "    -   *Ожидание:* p-value < уровня значимости (например, 0.05) для отклонения H0.\n",
    "-   **KPSS Тест:**\n",
    "    -   H0: Ряд стационарен относительно уровня или тренда.\n",
    "    -   H1: Ряд имеет единичный корень (нестационарен).\n",
    "    -   *Ожидание:* p-value >= уровня значимости (например, 0.05) для НЕотклонения H0.\n",
    "\n",
    "Если ряды нестационарны, применяем дифференцирование и повторяем проверку."
   ]
  },
  {
   "cell_type": "code",
   "execution_count": 8,
   "metadata": {},
   "outputs": [
    {
     "data": {
      "text/markdown": [
       "### Проверка стационарности исходных (объединенных) рядов:"
      ],
      "text/plain": [
       "<IPython.core.display.Markdown object>"
      ]
     },
     "metadata": {},
     "output_type": "display_data"
    },
    {
     "name": "stdout",
     "output_type": "stream",
     "text": [
      "\n",
      "--- Проверка стационарности для: Temperature_Norm ---\n",
      "Выполнение ADF теста для ряда: Temperature_Norm (Регрессия: c)\n",
      "Результаты ADF теста для Temperature_Norm:\n",
      "  Статистика теста: -1.7241\n",
      "  P-значение: 0.4187\n",
      "  Использовано лагов: 12\n",
      "  Стационарность (p < 0.05): False\n",
      "Выполнение KPSS теста для ряда: Temperature_Norm (Регрессия: c)\n",
      "Результаты KPSS теста для Temperature_Norm:\n",
      "  Статистика теста: 0.0159\n",
      "  P-значение: 0.1000 (Примечание: p-значения интерполированы и могут быть ограничены 0.01илиr 0.1)\n",
      "  Использовано лагов: 5\n",
      "  Стационарность (p >= 0.05): True\n",
      "\n",
      "--- Проверка стационарности для: Mortality_Norm ---\n",
      "Выполнение ADF теста для ряда: Mortality_Norm (Регрессия: c)\n",
      "Результаты ADF теста для Mortality_Norm:\n",
      "  Статистика теста: -1.7729\n",
      "  P-значение: 0.3940\n",
      "  Использовано лагов: 13\n",
      "  Стационарность (p < 0.05): False\n",
      "Выполнение KPSS теста для ряда: Mortality_Norm (Регрессия: c)\n",
      "Результаты KPSS теста для Mortality_Norm:\n",
      "  Статистика теста: 0.3510\n",
      "  P-значение: 0.0983 (Примечание: p-значения интерполированы и могут быть ограничены 0.01илиr 0.1)\n",
      "  Использовано лагов: 3\n",
      "  Стационарность (p >= 0.05): True\n",
      "\n",
      "Ряд 'Temperature_Norm' вероятно нестационарен. Рекомендуется дифференцирование.\n",
      "\n",
      "Применяем дифференцирование порядка 1...\n",
      "Применение дифференцирования порядка 1 к датафрейму с колонками: ['Temperature_Norm', 'Mortality_Norm']\n"
     ]
    },
    {
     "data": {
      "text/markdown": [
       "### Проверка стационарности после дифференцирования (порядок 1):"
      ],
      "text/plain": [
       "<IPython.core.display.Markdown object>"
      ]
     },
     "metadata": {},
     "output_type": "display_data"
    },
    {
     "name": "stdout",
     "output_type": "stream",
     "text": [
      "\n",
      "--- Проверка стационарности для: Temperature_Norm ---\n",
      "Выполнение ADF теста для ряда: Temperature_Norm (Регрессия: c)\n",
      "Результаты ADF теста для Temperature_Norm:\n",
      "  Статистика теста: -9.3855\n",
      "  P-значение: 0.0000\n",
      "  Использовано лагов: 11\n",
      "  Стационарность (p < 0.05): True\n",
      "Выполнение KPSS теста для ряда: Temperature_Norm (Регрессия: c)\n",
      "Результаты KPSS теста для Temperature_Norm:\n",
      "  Статистика теста: 0.0329\n",
      "  P-значение: 0.1000 (Примечание: p-значения интерполированы и могут быть ограничены 0.01илиr 0.1)\n",
      "  Использовано лагов: 5\n",
      "  Стационарность (p >= 0.05): True\n",
      "\n",
      "--- Проверка стационарности для: Mortality_Norm ---\n",
      "Выполнение ADF теста для ряда: Mortality_Norm (Регрессия: c)\n",
      "Результаты ADF теста для Mortality_Norm:\n",
      "  Статистика теста: -5.0238\n",
      "  P-значение: 0.0000\n",
      "  Использовано лагов: 12\n",
      "  Стационарность (p < 0.05): True\n",
      "Выполнение KPSS теста для ряда: Mortality_Norm (Регрессия: c)\n",
      "Результаты KPSS теста для Mortality_Norm:\n",
      "  Статистика теста: 0.2325\n",
      "  P-значение: 0.1000 (Примечание: p-значения интерполированы и могут быть ограничены 0.01илиr 0.1)\n",
      "  Использовано лагов: 31\n",
      "  Стационарность (p >= 0.05): True\n"
     ]
    },
    {
     "data": {
      "text/markdown": [
       "#### Итоговые данные для моделирования (первые 5 строк):"
      ],
      "text/plain": [
       "<IPython.core.display.Markdown object>"
      ]
     },
     "metadata": {},
     "output_type": "display_data"
    },
    {
     "data": {
      "text/html": [
       "<div>\n",
       "<style scoped>\n",
       "    .dataframe tbody tr th:only-of-type {\n",
       "        vertical-align: middle;\n",
       "    }\n",
       "\n",
       "    .dataframe tbody tr th {\n",
       "        vertical-align: top;\n",
       "    }\n",
       "\n",
       "    .dataframe thead th {\n",
       "        text-align: right;\n",
       "    }\n",
       "</style>\n",
       "<table border=\"1\" class=\"dataframe\">\n",
       "  <thead>\n",
       "    <tr style=\"text-align: right;\">\n",
       "      <th></th>\n",
       "      <th>Temperature_Norm</th>\n",
       "      <th>Mortality_Norm</th>\n",
       "    </tr>\n",
       "    <tr>\n",
       "      <th>Month</th>\n",
       "      <th></th>\n",
       "      <th></th>\n",
       "    </tr>\n",
       "  </thead>\n",
       "  <tbody>\n",
       "    <tr>\n",
       "      <th>2010-02-28</th>\n",
       "      <td>0.617814</td>\n",
       "      <td>-0.085740</td>\n",
       "    </tr>\n",
       "    <tr>\n",
       "      <th>2010-03-31</th>\n",
       "      <td>0.744435</td>\n",
       "      <td>0.095092</td>\n",
       "    </tr>\n",
       "    <tr>\n",
       "      <th>2010-04-30</th>\n",
       "      <td>0.958397</td>\n",
       "      <td>-0.102641</td>\n",
       "    </tr>\n",
       "    <tr>\n",
       "      <th>2010-05-31</th>\n",
       "      <td>0.854654</td>\n",
       "      <td>-0.002002</td>\n",
       "    </tr>\n",
       "    <tr>\n",
       "      <th>2010-06-30</th>\n",
       "      <td>0.207870</td>\n",
       "      <td>0.004945</td>\n",
       "    </tr>\n",
       "  </tbody>\n",
       "</table>\n",
       "</div>"
      ],
      "text/plain": [
       "            Temperature_Norm  Mortality_Norm\n",
       "Month                                       \n",
       "2010-02-28          0.617814       -0.085740\n",
       "2010-03-31          0.744435        0.095092\n",
       "2010-04-30          0.958397       -0.102641\n",
       "2010-05-31          0.854654       -0.002002\n",
       "2010-06-30          0.207870        0.004945"
      ]
     },
     "metadata": {},
     "output_type": "display_data"
    }
   ],
   "source": [
    "display(Markdown(\"### Проверка стационарности исходных (объединенных) рядов:\"))\n",
    "stationarity_results_orig = stationarity.check_stationarity_on_dataframe(\n",
    "    df_merged, \n",
    "    adf_level=config.ADF_SIGNIFICANCE_LEVEL, \n",
    "    kpss_level=config.KPSS_SIGNIFICANCE_LEVEL\n",
    ")\n",
    "\n",
    "# Анализ результатов и принятие решения о дифференцировании\n",
    "needs_differencing = False\n",
    "for col, results in stationarity_results_orig.items():\n",
    "    # Считаем ряд нестационарным, если ADF не отвергает H0 ИЛИ KPSS отвергает H0\n",
    "    if not results['ADF'][0] or not results['KPSS'][0]:\n",
    "        needs_differencing = True\n",
    "        print(f\"\\nРяд '{col}' вероятно нестационарен. Рекомендуется дифференцирование.\")\n",
    "        break # Достаточно одного нестационарного ряда для дифференцирования всего датафрейма\n",
    "\n",
    "if needs_differencing:\n",
    "    diff_order = 1 # Начинаем с первого порядка\n",
    "    print(f\"\\nПрименяем дифференцирование порядка {diff_order}...\")\n",
    "    df_stationary = stationarity.apply_differencing(df_merged, order=diff_order)\n",
    "    \n",
    "    display(Markdown(f\"### Проверка стационарности после дифференцирования (порядок {diff_order}):\"))\n",
    "    stationarity_results_diff = stationarity.check_stationarity_on_dataframe(\n",
    "        df_stationary, \n",
    "        adf_level=config.ADF_SIGNIFICANCE_LEVEL, \n",
    "        kpss_level=config.KPSS_SIGNIFICANCE_LEVEL\n",
    "    )\n",
    "    # TODO: Добавить логику для повторного дифференцирования (order=2), если необходимо\n",
    "    # Проверяем стационарность df_stationary и при необходимости применяем diff(2)\n",
    "    still_needs_diff = False\n",
    "    for col, results in stationarity_results_diff.items():\n",
    "        if not results['ADF'][0] or not results['KPSS'][0]:\n",
    "             still_needs_diff = True\n",
    "             print(f\"\\nРяд '{col}' все еще может быть нестационарен после diff(1).\")\n",
    "             break\n",
    "    if still_needs_diff and config.MAX_DIFFERENCING_ORDER >= 2:\n",
    "         diff_order = 2\n",
    "         print(f\"\\nПрименяем дифференцирование порядка {diff_order}...\")\n",
    "         # Применяем к исходному df_merged, а не к df_stationary\n",
    "         df_stationary = stationarity.apply_differencing(df_merged, order=diff_order)\n",
    "         display(Markdown(f\"### Проверка стационарности после дифференцирования (порядок {diff_order}):\"))\n",
    "         stationarity.check_stationarity_on_dataframe(df_stationary, adf_level=config.ADF_SIGNIFICANCE_LEVEL, kpss_level=config.KPSS_SIGNIFICANCE_LEVEL)\n",
    "    elif still_needs_diff:\n",
    "         print(f\"\\nПредупреждение: Ряды могут быть нестационарны даже после дифференцирования максимального порядка ({config.MAX_DIFFERENCING_ORDER}). Результаты VAR/Granger могут быть ненадежными.\")\n",
    "else:\n",
    "    print(\"\\nВсе ряды стационарны. Дифференцирование не требуется.\")\n",
    "    df_stationary = df_merged.copy() # Используем исходные данные\n",
    "\n",
    "display(Markdown(\"#### Итоговые данные для моделирования (первые 5 строк):\"))\n",
    "display(df_stationary.head())"
   ]
  },
  {
   "cell_type": "markdown",
   "metadata": {},
   "source": [
    "## 7. Визуализация Стационарных Рядов и ACF/PACF\n",
    "\n",
    "Строим графики рядов после преобразований (если они применялись) и их автокорреляционные (ACF) и частично автокорреляционные (PACF) функции для визуальной оценки структуры зависимостей."
   ]
  },
  {
   "cell_type": "code",
   "execution_count": 9,
   "metadata": {},
   "outputs": [
    {
     "data": {
      "text/markdown": [
       "### Графики стационарных рядов:"
      ],
      "text/plain": [
       "<IPython.core.display.Markdown object>"
      ]
     },
     "metadata": {},
     "output_type": "display_data"
    },
    {
     "name": "stdout",
     "output_type": "stream",
     "text": [
      "Запрошено интерактивное построение графиков (требуется Plotly).\n"
     ]
    },
    {
     "data": {
      "application/vnd.plotly.v1+json": {
       "config": {
        "plotlyServerURL": "https://plot.ly"
       },
       "data": [
        {
         "hovertemplate": "variable=Temperature_Norm<br>Time=%{x}<br>Value=%{y}<extra></extra>",
         "legendgroup": "Temperature_Norm",
         "line": {
          "color": "#636efa",
          "dash": "solid"
         },
         "marker": {
          "symbol": "circle"
         },
         "mode": "lines",
         "name": "Temperature_Norm",
         "orientation": "v",
         "showlegend": true,
         "type": "scatter",
         "x": [
          "2010-02-28T00:00:00.000000000",
          "2010-03-31T00:00:00.000000000",
          "2010-04-30T00:00:00.000000000",
          "2010-05-31T00:00:00.000000000",
          "2010-06-30T00:00:00.000000000",
          "2010-07-31T00:00:00.000000000",
          "2010-08-31T00:00:00.000000000",
          "2010-09-30T00:00:00.000000000",
          "2010-10-31T00:00:00.000000000",
          "2010-11-30T00:00:00.000000000",
          "2010-12-31T00:00:00.000000000",
          "2011-01-31T00:00:00.000000000",
          "2011-02-28T00:00:00.000000000",
          "2011-03-31T00:00:00.000000000",
          "2011-04-30T00:00:00.000000000",
          "2011-05-31T00:00:00.000000000",
          "2011-06-30T00:00:00.000000000",
          "2011-07-31T00:00:00.000000000",
          "2011-08-31T00:00:00.000000000",
          "2011-09-30T00:00:00.000000000",
          "2011-10-31T00:00:00.000000000",
          "2011-11-30T00:00:00.000000000",
          "2011-12-31T00:00:00.000000000",
          "2012-01-31T00:00:00.000000000",
          "2012-02-29T00:00:00.000000000",
          "2012-03-31T00:00:00.000000000",
          "2012-04-30T00:00:00.000000000",
          "2012-05-31T00:00:00.000000000",
          "2012-06-30T00:00:00.000000000",
          "2012-07-31T00:00:00.000000000",
          "2012-08-31T00:00:00.000000000",
          "2012-09-30T00:00:00.000000000",
          "2012-10-31T00:00:00.000000000",
          "2012-11-30T00:00:00.000000000",
          "2012-12-31T00:00:00.000000000",
          "2013-01-31T00:00:00.000000000",
          "2013-02-28T00:00:00.000000000",
          "2013-03-31T00:00:00.000000000",
          "2013-04-30T00:00:00.000000000",
          "2013-05-31T00:00:00.000000000",
          "2013-06-30T00:00:00.000000000",
          "2013-07-31T00:00:00.000000000",
          "2013-08-31T00:00:00.000000000",
          "2013-09-30T00:00:00.000000000",
          "2013-10-31T00:00:00.000000000",
          "2013-11-30T00:00:00.000000000",
          "2013-12-31T00:00:00.000000000",
          "2014-01-31T00:00:00.000000000",
          "2014-02-28T00:00:00.000000000",
          "2014-03-31T00:00:00.000000000",
          "2014-04-30T00:00:00.000000000",
          "2014-05-31T00:00:00.000000000",
          "2014-06-30T00:00:00.000000000",
          "2014-07-31T00:00:00.000000000",
          "2014-08-31T00:00:00.000000000",
          "2014-09-30T00:00:00.000000000",
          "2014-10-31T00:00:00.000000000",
          "2014-11-30T00:00:00.000000000",
          "2014-12-31T00:00:00.000000000",
          "2015-01-31T00:00:00.000000000",
          "2015-02-28T00:00:00.000000000",
          "2015-03-31T00:00:00.000000000",
          "2015-04-30T00:00:00.000000000",
          "2015-05-31T00:00:00.000000000",
          "2015-06-30T00:00:00.000000000",
          "2015-07-31T00:00:00.000000000",
          "2015-08-31T00:00:00.000000000",
          "2015-09-30T00:00:00.000000000",
          "2015-10-31T00:00:00.000000000",
          "2015-11-30T00:00:00.000000000",
          "2015-12-31T00:00:00.000000000",
          "2016-01-31T00:00:00.000000000",
          "2016-02-29T00:00:00.000000000",
          "2016-03-31T00:00:00.000000000",
          "2016-04-30T00:00:00.000000000",
          "2016-05-31T00:00:00.000000000",
          "2016-06-30T00:00:00.000000000",
          "2016-07-31T00:00:00.000000000",
          "2016-08-31T00:00:00.000000000",
          "2016-09-30T00:00:00.000000000",
          "2016-10-31T00:00:00.000000000",
          "2016-11-30T00:00:00.000000000",
          "2016-12-31T00:00:00.000000000",
          "2017-01-31T00:00:00.000000000",
          "2017-02-28T00:00:00.000000000",
          "2017-03-31T00:00:00.000000000",
          "2017-04-30T00:00:00.000000000",
          "2017-05-31T00:00:00.000000000",
          "2017-06-30T00:00:00.000000000",
          "2017-07-31T00:00:00.000000000",
          "2017-08-31T00:00:00.000000000",
          "2017-09-30T00:00:00.000000000",
          "2017-10-31T00:00:00.000000000",
          "2017-11-30T00:00:00.000000000",
          "2017-12-31T00:00:00.000000000",
          "2018-01-31T00:00:00.000000000",
          "2018-02-28T00:00:00.000000000",
          "2018-03-31T00:00:00.000000000",
          "2018-04-30T00:00:00.000000000",
          "2018-05-31T00:00:00.000000000",
          "2018-06-30T00:00:00.000000000",
          "2018-07-31T00:00:00.000000000",
          "2018-08-31T00:00:00.000000000",
          "2018-09-30T00:00:00.000000000",
          "2018-10-31T00:00:00.000000000",
          "2018-11-30T00:00:00.000000000",
          "2018-12-31T00:00:00.000000000",
          "2019-01-31T00:00:00.000000000",
          "2019-02-28T00:00:00.000000000",
          "2019-03-31T00:00:00.000000000",
          "2019-04-30T00:00:00.000000000",
          "2019-05-31T00:00:00.000000000",
          "2019-06-30T00:00:00.000000000",
          "2019-07-31T00:00:00.000000000",
          "2019-08-31T00:00:00.000000000",
          "2019-09-30T00:00:00.000000000",
          "2019-10-31T00:00:00.000000000",
          "2019-11-30T00:00:00.000000000",
          "2019-12-31T00:00:00.000000000",
          "2020-01-31T00:00:00.000000000",
          "2020-02-29T00:00:00.000000000",
          "2020-03-31T00:00:00.000000000",
          "2020-04-30T00:00:00.000000000"
         ],
         "xaxis": "x",
         "y": {
          "bdata": "UrooBCLF4z+vvnbDadLnPwr4ozExq+4/HBlrM1NZ6z9cL37pepvKPxb0Asobtuc/mH/yjWvt27829GJ7L1Pwv92JHG53sem/pGvYEcxbvL9cAA7aZeLwvwCAmv/BlI8/SCCc5fjX1r/CqBejWTLtP/txa3WEd+s/PrC10Mef6j+WiIcyQgLdPwwE1vDdUNw/MA2jEHyd3r+C+O7jcpHlvyEN32FuteG/rmR8iXjW5L8wbL+B8d2jv4aHN0+Vs+W/hNPg0kid379yoGrvrcbrP0d2wOnpafI/Y2vm0riI5j/sXl92CLDJP4A7s1UEBNk/xECt7H6p1L/c1GRa36vfvwko0HAApuS/pEN5e4Yp4L9UqCoYDI7wv4CQMDaILIY/RE+UqldR4D8gIXJLge7Tv4qDXAGjlvQ/uL+Vdq+U8T+ENsz1Aw3TP7CU02ZO4Le/oPnktOfhsL/kDvEr0ePpvwWMRBwxUdi/CB7XzdaP0L/+oB+bWr7ivyk4Vh0pUua/VigF1S3h5T8TG1PTjI3eP1LEOek8G9s/jNRbU0lj7T9ALFksZyGJP3HbtyC/AeA/OEFVXtVQyL+ac4TC7kjmv06ll+j3Sey/HbuU/+oz4L+OA/Jyt6rQv+CiZjOoYau/OM+n+IIizT9IiEwKngfbP56y49g6xdo/9tx6p9eC6j/WAtOHyvDXP+DS5UbK0KU/oKpBWPw9tL+gTZAkGD/Yv+paGCErue6/AylmkGFZ17/QQFOVJJKtv4wuFlof0/C/R9Hf02LR7j/IZ/8Ab0G5P7mttjyGaek/WBuqqY9u5j/+CaaJtIjUP3j7vR9X1NE/uJizzDKwwr897NTQdGXqv8gauU6on+a/VLDMmEoV57/kPa88aXfJv4Do0tMfz9S/mH7XeKkT1T/MM8LvFp7mP/4eBv4+HNM/AtpRWbtB4j+hio4tt9/WP1YAO+OB4dY/kCacygqYtj95dXFIBO7iv0O06Ar/4+m/GgR83qVS4L8Arq/+oN9xv8CrLfmMKNy/zNVJ9TEE37+sUFSEkw/aP6gAv/S2A/U/VLBRjqs76z9QAe8IS5S9P0i/tstYiNQ/gKGmWWyjsb8Tt/rVusjgv/AQFi2uwOe/NctWuOPe6b8kXsXFnjXgvzAnfLcod7u/oadxcJPu4D+s6jNF+S7LP/DhvgsPVOg/ATcrfsmM6j+OzZjb/LbVP+oKguXJoNK/EPEpo3Umo7+Q5MBMLU3av+RxSsI/tda/WF1xDMcG578IBz49yWy4vwgvV9x8U7S/8G3gH2Qso7/o7UvBAbHaP76bqvlAP7s/",
          "dtype": "f8"
         },
         "yaxis": "y"
        },
        {
         "hovertemplate": "variable=Mortality_Norm<br>Time=%{x}<br>Value=%{y}<extra></extra>",
         "legendgroup": "Mortality_Norm",
         "line": {
          "color": "#EF553B",
          "dash": "solid"
         },
         "marker": {
          "symbol": "circle"
         },
         "mode": "lines",
         "name": "Mortality_Norm",
         "orientation": "v",
         "showlegend": true,
         "type": "scatter",
         "x": [
          "2010-02-28T00:00:00.000000000",
          "2010-03-31T00:00:00.000000000",
          "2010-04-30T00:00:00.000000000",
          "2010-05-31T00:00:00.000000000",
          "2010-06-30T00:00:00.000000000",
          "2010-07-31T00:00:00.000000000",
          "2010-08-31T00:00:00.000000000",
          "2010-09-30T00:00:00.000000000",
          "2010-10-31T00:00:00.000000000",
          "2010-11-30T00:00:00.000000000",
          "2010-12-31T00:00:00.000000000",
          "2011-01-31T00:00:00.000000000",
          "2011-02-28T00:00:00.000000000",
          "2011-03-31T00:00:00.000000000",
          "2011-04-30T00:00:00.000000000",
          "2011-05-31T00:00:00.000000000",
          "2011-06-30T00:00:00.000000000",
          "2011-07-31T00:00:00.000000000",
          "2011-08-31T00:00:00.000000000",
          "2011-09-30T00:00:00.000000000",
          "2011-10-31T00:00:00.000000000",
          "2011-11-30T00:00:00.000000000",
          "2011-12-31T00:00:00.000000000",
          "2012-01-31T00:00:00.000000000",
          "2012-02-29T00:00:00.000000000",
          "2012-03-31T00:00:00.000000000",
          "2012-04-30T00:00:00.000000000",
          "2012-05-31T00:00:00.000000000",
          "2012-06-30T00:00:00.000000000",
          "2012-07-31T00:00:00.000000000",
          "2012-08-31T00:00:00.000000000",
          "2012-09-30T00:00:00.000000000",
          "2012-10-31T00:00:00.000000000",
          "2012-11-30T00:00:00.000000000",
          "2012-12-31T00:00:00.000000000",
          "2013-01-31T00:00:00.000000000",
          "2013-02-28T00:00:00.000000000",
          "2013-03-31T00:00:00.000000000",
          "2013-04-30T00:00:00.000000000",
          "2013-05-31T00:00:00.000000000",
          "2013-06-30T00:00:00.000000000",
          "2013-07-31T00:00:00.000000000",
          "2013-08-31T00:00:00.000000000",
          "2013-09-30T00:00:00.000000000",
          "2013-10-31T00:00:00.000000000",
          "2013-11-30T00:00:00.000000000",
          "2013-12-31T00:00:00.000000000",
          "2014-01-31T00:00:00.000000000",
          "2014-02-28T00:00:00.000000000",
          "2014-03-31T00:00:00.000000000",
          "2014-04-30T00:00:00.000000000",
          "2014-05-31T00:00:00.000000000",
          "2014-06-30T00:00:00.000000000",
          "2014-07-31T00:00:00.000000000",
          "2014-08-31T00:00:00.000000000",
          "2014-09-30T00:00:00.000000000",
          "2014-10-31T00:00:00.000000000",
          "2014-11-30T00:00:00.000000000",
          "2014-12-31T00:00:00.000000000",
          "2015-01-31T00:00:00.000000000",
          "2015-02-28T00:00:00.000000000",
          "2015-03-31T00:00:00.000000000",
          "2015-04-30T00:00:00.000000000",
          "2015-05-31T00:00:00.000000000",
          "2015-06-30T00:00:00.000000000",
          "2015-07-31T00:00:00.000000000",
          "2015-08-31T00:00:00.000000000",
          "2015-09-30T00:00:00.000000000",
          "2015-10-31T00:00:00.000000000",
          "2015-11-30T00:00:00.000000000",
          "2015-12-31T00:00:00.000000000",
          "2016-01-31T00:00:00.000000000",
          "2016-02-29T00:00:00.000000000",
          "2016-03-31T00:00:00.000000000",
          "2016-04-30T00:00:00.000000000",
          "2016-05-31T00:00:00.000000000",
          "2016-06-30T00:00:00.000000000",
          "2016-07-31T00:00:00.000000000",
          "2016-08-31T00:00:00.000000000",
          "2016-09-30T00:00:00.000000000",
          "2016-10-31T00:00:00.000000000",
          "2016-11-30T00:00:00.000000000",
          "2016-12-31T00:00:00.000000000",
          "2017-01-31T00:00:00.000000000",
          "2017-02-28T00:00:00.000000000",
          "2017-03-31T00:00:00.000000000",
          "2017-04-30T00:00:00.000000000",
          "2017-05-31T00:00:00.000000000",
          "2017-06-30T00:00:00.000000000",
          "2017-07-31T00:00:00.000000000",
          "2017-08-31T00:00:00.000000000",
          "2017-09-30T00:00:00.000000000",
          "2017-10-31T00:00:00.000000000",
          "2017-11-30T00:00:00.000000000",
          "2017-12-31T00:00:00.000000000",
          "2018-01-31T00:00:00.000000000",
          "2018-02-28T00:00:00.000000000",
          "2018-03-31T00:00:00.000000000",
          "2018-04-30T00:00:00.000000000",
          "2018-05-31T00:00:00.000000000",
          "2018-06-30T00:00:00.000000000",
          "2018-07-31T00:00:00.000000000",
          "2018-08-31T00:00:00.000000000",
          "2018-09-30T00:00:00.000000000",
          "2018-10-31T00:00:00.000000000",
          "2018-11-30T00:00:00.000000000",
          "2018-12-31T00:00:00.000000000",
          "2019-01-31T00:00:00.000000000",
          "2019-02-28T00:00:00.000000000",
          "2019-03-31T00:00:00.000000000",
          "2019-04-30T00:00:00.000000000",
          "2019-05-31T00:00:00.000000000",
          "2019-06-30T00:00:00.000000000",
          "2019-07-31T00:00:00.000000000",
          "2019-08-31T00:00:00.000000000",
          "2019-09-30T00:00:00.000000000",
          "2019-10-31T00:00:00.000000000",
          "2019-11-30T00:00:00.000000000",
          "2019-12-31T00:00:00.000000000",
          "2020-01-31T00:00:00.000000000",
          "2020-02-29T00:00:00.000000000",
          "2020-03-31T00:00:00.000000000",
          "2020-04-30T00:00:00.000000000"
         ],
         "xaxis": "x",
         "y": {
          "bdata": "AAnqVwjztb8Av3yj7le4PwBDkZGzRrq/AGB1wg9mYL8AQGhgs0B0P2Ca9cxaKNo/ADDPX6GVpz+gFWdrlM/cvwDwlpDPIpi/APRa9//DnL8AwA5sekuvPwCGxsiDQKc/gHqQkEKJvb8AxcFRZoS3PwC+lxMDJ7C/AJDKxHnre78AHY81NVWxvwCi2c/MbKE/ABK0i7IBpT8ABFwQIwmSvwCRk7c+Las/AEiBLyn9j78AEHGIoQFqvwBo5cT42bI/ACtEwFMAo78AKF0+mSugP4ACOTfHN7C/ALDIL74qYr8A8zT5wZOrvwBs7pkH8pk/AKBbVkIMUL8AcAg+qst1P0Bg5S/TX8A/gGmipFFit78AHprmq2a5PwCcW8+Enqw/gHBggjBMxr8AZRrIKReyPwB05gVfepO/AK7jWFa/kb/A7ls1TOvAvwDod3Eburg/AFBUD38Fi78AQHz1bZ52v4BrmAvUs7g/gAdm7vmMsr8AZlwqpSOsPwDJ00J9X6E/gKO1Q8Q2vL+AvDc7Qdi6PwDX/AaJ6qK/AMwksNEQoT9AmZ7DNVjBv4CUGbWLRrE/AH7duHolq78ANh8mJdG0PwBdpuSDIKk/AKIwBincwL+AbDOZIYrGPwB+5k8VTpg/gGZufxeqtb8AP1TNmgWyPwCWJJVAxq2/ALoVvdESq78AhP/kDKWDvwDwhwVk/2C/AKAGi2pKj78A4SP6bu6hP4AW3rJzjLI/ADiE8tU7rb8A0Lp/7MW0P4D57ag/hbM/gCaueLCJv78AmJdAyBV3vwBtdtUHM6G/APyOmMgAkj8APBuNm5WjvwAVhjnInKK/AMXS+UCmsT8A9K/RR7SUvwBkh1kwn6k/APS16c5Pjr8Auu15s8rFPwCyASqJgJO/ADV6jFqqzb+A0N6PApm0PwAXELwSLLC/AIOHjyfQpD+AObxtNVKxvwCtjl7pJqM/ABC7tBO1bb8AJH6SpgCXv4BvOPDXirs/ALa1vLCGtb8AUQn4sreoPwCwbfxRD64/gB3YF1ZQsr+AfGmSPMTEP4DPx2QwL7S/gPtskIezuL8AGIhsixmBvwBYoT6lJZ+/AIaO9GSckj8AuK0DATSmv4DTVwSj3sE/gDC+WbvLsr8ALeR15M6uP4CwGr0dB7c/AAJ08F1mxL8AHpbNfoubPwDILvR/dHa/AAAFwNwyKj+AI3K7vaOzv4CJpuEG6LU/AISp80G9qb8AFNxfrYqHPwA95acNC7M/AHGHuTuEsr+A3oOJrfO0PwCORGwO+aA/gFnMrIPBub8AmT8ByS+jPwAzqd/whcI/",
          "dtype": "f8"
         },
         "yaxis": "y"
        }
       ],
       "layout": {
        "legend": {
         "title": {
          "text": "Variables"
         },
         "tracegroupgap": 0
        },
        "template": {
         "data": {
          "bar": [
           {
            "error_x": {
             "color": "#2a3f5f"
            },
            "error_y": {
             "color": "#2a3f5f"
            },
            "marker": {
             "line": {
              "color": "#E5ECF6",
              "width": 0.5
             },
             "pattern": {
              "fillmode": "overlay",
              "size": 10,
              "solidity": 0.2
             }
            },
            "type": "bar"
           }
          ],
          "barpolar": [
           {
            "marker": {
             "line": {
              "color": "#E5ECF6",
              "width": 0.5
             },
             "pattern": {
              "fillmode": "overlay",
              "size": 10,
              "solidity": 0.2
             }
            },
            "type": "barpolar"
           }
          ],
          "carpet": [
           {
            "aaxis": {
             "endlinecolor": "#2a3f5f",
             "gridcolor": "white",
             "linecolor": "white",
             "minorgridcolor": "white",
             "startlinecolor": "#2a3f5f"
            },
            "baxis": {
             "endlinecolor": "#2a3f5f",
             "gridcolor": "white",
             "linecolor": "white",
             "minorgridcolor": "white",
             "startlinecolor": "#2a3f5f"
            },
            "type": "carpet"
           }
          ],
          "choropleth": [
           {
            "colorbar": {
             "outlinewidth": 0,
             "ticks": ""
            },
            "type": "choropleth"
           }
          ],
          "contour": [
           {
            "colorbar": {
             "outlinewidth": 0,
             "ticks": ""
            },
            "colorscale": [
             [
              0,
              "#0d0887"
             ],
             [
              0.1111111111111111,
              "#46039f"
             ],
             [
              0.2222222222222222,
              "#7201a8"
             ],
             [
              0.3333333333333333,
              "#9c179e"
             ],
             [
              0.4444444444444444,
              "#bd3786"
             ],
             [
              0.5555555555555556,
              "#d8576b"
             ],
             [
              0.6666666666666666,
              "#ed7953"
             ],
             [
              0.7777777777777778,
              "#fb9f3a"
             ],
             [
              0.8888888888888888,
              "#fdca26"
             ],
             [
              1,
              "#f0f921"
             ]
            ],
            "type": "contour"
           }
          ],
          "contourcarpet": [
           {
            "colorbar": {
             "outlinewidth": 0,
             "ticks": ""
            },
            "type": "contourcarpet"
           }
          ],
          "heatmap": [
           {
            "colorbar": {
             "outlinewidth": 0,
             "ticks": ""
            },
            "colorscale": [
             [
              0,
              "#0d0887"
             ],
             [
              0.1111111111111111,
              "#46039f"
             ],
             [
              0.2222222222222222,
              "#7201a8"
             ],
             [
              0.3333333333333333,
              "#9c179e"
             ],
             [
              0.4444444444444444,
              "#bd3786"
             ],
             [
              0.5555555555555556,
              "#d8576b"
             ],
             [
              0.6666666666666666,
              "#ed7953"
             ],
             [
              0.7777777777777778,
              "#fb9f3a"
             ],
             [
              0.8888888888888888,
              "#fdca26"
             ],
             [
              1,
              "#f0f921"
             ]
            ],
            "type": "heatmap"
           }
          ],
          "histogram": [
           {
            "marker": {
             "pattern": {
              "fillmode": "overlay",
              "size": 10,
              "solidity": 0.2
             }
            },
            "type": "histogram"
           }
          ],
          "histogram2d": [
           {
            "colorbar": {
             "outlinewidth": 0,
             "ticks": ""
            },
            "colorscale": [
             [
              0,
              "#0d0887"
             ],
             [
              0.1111111111111111,
              "#46039f"
             ],
             [
              0.2222222222222222,
              "#7201a8"
             ],
             [
              0.3333333333333333,
              "#9c179e"
             ],
             [
              0.4444444444444444,
              "#bd3786"
             ],
             [
              0.5555555555555556,
              "#d8576b"
             ],
             [
              0.6666666666666666,
              "#ed7953"
             ],
             [
              0.7777777777777778,
              "#fb9f3a"
             ],
             [
              0.8888888888888888,
              "#fdca26"
             ],
             [
              1,
              "#f0f921"
             ]
            ],
            "type": "histogram2d"
           }
          ],
          "histogram2dcontour": [
           {
            "colorbar": {
             "outlinewidth": 0,
             "ticks": ""
            },
            "colorscale": [
             [
              0,
              "#0d0887"
             ],
             [
              0.1111111111111111,
              "#46039f"
             ],
             [
              0.2222222222222222,
              "#7201a8"
             ],
             [
              0.3333333333333333,
              "#9c179e"
             ],
             [
              0.4444444444444444,
              "#bd3786"
             ],
             [
              0.5555555555555556,
              "#d8576b"
             ],
             [
              0.6666666666666666,
              "#ed7953"
             ],
             [
              0.7777777777777778,
              "#fb9f3a"
             ],
             [
              0.8888888888888888,
              "#fdca26"
             ],
             [
              1,
              "#f0f921"
             ]
            ],
            "type": "histogram2dcontour"
           }
          ],
          "mesh3d": [
           {
            "colorbar": {
             "outlinewidth": 0,
             "ticks": ""
            },
            "type": "mesh3d"
           }
          ],
          "parcoords": [
           {
            "line": {
             "colorbar": {
              "outlinewidth": 0,
              "ticks": ""
             }
            },
            "type": "parcoords"
           }
          ],
          "pie": [
           {
            "automargin": true,
            "type": "pie"
           }
          ],
          "scatter": [
           {
            "fillpattern": {
             "fillmode": "overlay",
             "size": 10,
             "solidity": 0.2
            },
            "type": "scatter"
           }
          ],
          "scatter3d": [
           {
            "line": {
             "colorbar": {
              "outlinewidth": 0,
              "ticks": ""
             }
            },
            "marker": {
             "colorbar": {
              "outlinewidth": 0,
              "ticks": ""
             }
            },
            "type": "scatter3d"
           }
          ],
          "scattercarpet": [
           {
            "marker": {
             "colorbar": {
              "outlinewidth": 0,
              "ticks": ""
             }
            },
            "type": "scattercarpet"
           }
          ],
          "scattergeo": [
           {
            "marker": {
             "colorbar": {
              "outlinewidth": 0,
              "ticks": ""
             }
            },
            "type": "scattergeo"
           }
          ],
          "scattergl": [
           {
            "marker": {
             "colorbar": {
              "outlinewidth": 0,
              "ticks": ""
             }
            },
            "type": "scattergl"
           }
          ],
          "scattermap": [
           {
            "marker": {
             "colorbar": {
              "outlinewidth": 0,
              "ticks": ""
             }
            },
            "type": "scattermap"
           }
          ],
          "scattermapbox": [
           {
            "marker": {
             "colorbar": {
              "outlinewidth": 0,
              "ticks": ""
             }
            },
            "type": "scattermapbox"
           }
          ],
          "scatterpolar": [
           {
            "marker": {
             "colorbar": {
              "outlinewidth": 0,
              "ticks": ""
             }
            },
            "type": "scatterpolar"
           }
          ],
          "scatterpolargl": [
           {
            "marker": {
             "colorbar": {
              "outlinewidth": 0,
              "ticks": ""
             }
            },
            "type": "scatterpolargl"
           }
          ],
          "scatterternary": [
           {
            "marker": {
             "colorbar": {
              "outlinewidth": 0,
              "ticks": ""
             }
            },
            "type": "scatterternary"
           }
          ],
          "surface": [
           {
            "colorbar": {
             "outlinewidth": 0,
             "ticks": ""
            },
            "colorscale": [
             [
              0,
              "#0d0887"
             ],
             [
              0.1111111111111111,
              "#46039f"
             ],
             [
              0.2222222222222222,
              "#7201a8"
             ],
             [
              0.3333333333333333,
              "#9c179e"
             ],
             [
              0.4444444444444444,
              "#bd3786"
             ],
             [
              0.5555555555555556,
              "#d8576b"
             ],
             [
              0.6666666666666666,
              "#ed7953"
             ],
             [
              0.7777777777777778,
              "#fb9f3a"
             ],
             [
              0.8888888888888888,
              "#fdca26"
             ],
             [
              1,
              "#f0f921"
             ]
            ],
            "type": "surface"
           }
          ],
          "table": [
           {
            "cells": {
             "fill": {
              "color": "#EBF0F8"
             },
             "line": {
              "color": "white"
             }
            },
            "header": {
             "fill": {
              "color": "#C8D4E3"
             },
             "line": {
              "color": "white"
             }
            },
            "type": "table"
           }
          ]
         },
         "layout": {
          "annotationdefaults": {
           "arrowcolor": "#2a3f5f",
           "arrowhead": 0,
           "arrowwidth": 1
          },
          "autotypenumbers": "strict",
          "coloraxis": {
           "colorbar": {
            "outlinewidth": 0,
            "ticks": ""
           }
          },
          "colorscale": {
           "diverging": [
            [
             0,
             "#8e0152"
            ],
            [
             0.1,
             "#c51b7d"
            ],
            [
             0.2,
             "#de77ae"
            ],
            [
             0.3,
             "#f1b6da"
            ],
            [
             0.4,
             "#fde0ef"
            ],
            [
             0.5,
             "#f7f7f7"
            ],
            [
             0.6,
             "#e6f5d0"
            ],
            [
             0.7,
             "#b8e186"
            ],
            [
             0.8,
             "#7fbc41"
            ],
            [
             0.9,
             "#4d9221"
            ],
            [
             1,
             "#276419"
            ]
           ],
           "sequential": [
            [
             0,
             "#0d0887"
            ],
            [
             0.1111111111111111,
             "#46039f"
            ],
            [
             0.2222222222222222,
             "#7201a8"
            ],
            [
             0.3333333333333333,
             "#9c179e"
            ],
            [
             0.4444444444444444,
             "#bd3786"
            ],
            [
             0.5555555555555556,
             "#d8576b"
            ],
            [
             0.6666666666666666,
             "#ed7953"
            ],
            [
             0.7777777777777778,
             "#fb9f3a"
            ],
            [
             0.8888888888888888,
             "#fdca26"
            ],
            [
             1,
             "#f0f921"
            ]
           ],
           "sequentialminus": [
            [
             0,
             "#0d0887"
            ],
            [
             0.1111111111111111,
             "#46039f"
            ],
            [
             0.2222222222222222,
             "#7201a8"
            ],
            [
             0.3333333333333333,
             "#9c179e"
            ],
            [
             0.4444444444444444,
             "#bd3786"
            ],
            [
             0.5555555555555556,
             "#d8576b"
            ],
            [
             0.6666666666666666,
             "#ed7953"
            ],
            [
             0.7777777777777778,
             "#fb9f3a"
            ],
            [
             0.8888888888888888,
             "#fdca26"
            ],
            [
             1,
             "#f0f921"
            ]
           ]
          },
          "colorway": [
           "#636efa",
           "#EF553B",
           "#00cc96",
           "#ab63fa",
           "#FFA15A",
           "#19d3f3",
           "#FF6692",
           "#B6E880",
           "#FF97FF",
           "#FECB52"
          ],
          "font": {
           "color": "#2a3f5f"
          },
          "geo": {
           "bgcolor": "white",
           "lakecolor": "white",
           "landcolor": "#E5ECF6",
           "showlakes": true,
           "showland": true,
           "subunitcolor": "white"
          },
          "hoverlabel": {
           "align": "left"
          },
          "hovermode": "closest",
          "mapbox": {
           "style": "light"
          },
          "paper_bgcolor": "white",
          "plot_bgcolor": "#E5ECF6",
          "polar": {
           "angularaxis": {
            "gridcolor": "white",
            "linecolor": "white",
            "ticks": ""
           },
           "bgcolor": "#E5ECF6",
           "radialaxis": {
            "gridcolor": "white",
            "linecolor": "white",
            "ticks": ""
           }
          },
          "scene": {
           "xaxis": {
            "backgroundcolor": "#E5ECF6",
            "gridcolor": "white",
            "gridwidth": 2,
            "linecolor": "white",
            "showbackground": true,
            "ticks": "",
            "zerolinecolor": "white"
           },
           "yaxis": {
            "backgroundcolor": "#E5ECF6",
            "gridcolor": "white",
            "gridwidth": 2,
            "linecolor": "white",
            "showbackground": true,
            "ticks": "",
            "zerolinecolor": "white"
           },
           "zaxis": {
            "backgroundcolor": "#E5ECF6",
            "gridcolor": "white",
            "gridwidth": 2,
            "linecolor": "white",
            "showbackground": true,
            "ticks": "",
            "zerolinecolor": "white"
           }
          },
          "shapedefaults": {
           "line": {
            "color": "#2a3f5f"
           }
          },
          "ternary": {
           "aaxis": {
            "gridcolor": "white",
            "linecolor": "white",
            "ticks": ""
           },
           "baxis": {
            "gridcolor": "white",
            "linecolor": "white",
            "ticks": ""
           },
           "bgcolor": "#E5ECF6",
           "caxis": {
            "gridcolor": "white",
            "linecolor": "white",
            "ticks": ""
           }
          },
          "title": {
           "x": 0.05
          },
          "xaxis": {
           "automargin": true,
           "gridcolor": "white",
           "linecolor": "white",
           "ticks": "",
           "title": {
            "standoff": 15
           },
           "zerolinecolor": "white",
           "zerolinewidth": 2
          },
          "yaxis": {
           "automargin": true,
           "gridcolor": "white",
           "linecolor": "white",
           "ticks": "",
           "title": {
            "standoff": 15
           },
           "zerolinecolor": "white",
           "zerolinewidth": 2
          }
         }
        },
        "title": {
         "text": "Стационарные временные ряды (Интерактивно)"
        },
        "xaxis": {
         "anchor": "y",
         "domain": [
          0,
          1
         ],
         "title": {
          "text": "Time"
         }
        },
        "yaxis": {
         "anchor": "x",
         "domain": [
          0,
          1
         ],
         "title": {
          "text": "Value"
         }
        }
       }
      }
     },
     "metadata": {},
     "output_type": "display_data"
    },
    {
     "data": {
      "text/markdown": [
       "### Графики ACF/PACF для стационарных рядов:"
      ],
      "text/plain": [
       "<IPython.core.display.Markdown object>"
      ]
     },
     "metadata": {},
     "output_type": "display_data"
    },
    {
     "name": "stdout",
     "output_type": "stream",
     "text": [
      "Отображение ACF/PACF для: Temperature_Norm\n"
     ]
    },
    {
     "data": {
      "image/png": "[encoded data removed]",
      "text/plain": [
       "<Figure size 1200x400 with 2 Axes>"
      ]
     },
     "metadata": {},
     "output_type": "display_data"
    },
    {
     "name": "stdout",
     "output_type": "stream",
     "text": [
      "Отображение ACF/PACF для: Mortality_Norm\n"
     ]
    },
    {
     "data": {
      "image/png": "[encoded data removed]",
      "text/plain": [
       "<Figure size 1200x400 with 2 Axes>"
      ]
     },
     "metadata": {},
     "output_type": "display_data"
    }
   ],
   "source": [
    "display(Markdown(\"### Графики стационарных рядов:\"))\n",
    "if config.INTERACTIVE_PLOTS:\n",
    "    try:\n",
    "        time_series.plot_time_series_interactive(df_stationary, title=\"Стационарные временные ряды (Интерактивно)\")\n",
    "    except Exception as e:\n",
    "        print(f\"Ошибка при построении интерактивного графика: {e}. Попробуем статический график.\")\n",
    "        time_series.plot_time_series(df_stationary, title=\"Стационарные временные ряды\")\n",
    "else:\n",
    "    time_series.plot_time_series(df_stationary, title=\"Стационарные временные ряды\")\n",
    "\n",
    "display(Markdown(\"### Графики ACF/PACF для стационарных рядов:\"))\n",
    "acf_pacf_lags = 24 # Количество лагов для отображения\n",
    "for col in df_stationary.columns:\n",
    "    time_series.plot_acf_pacf(df_stationary[col], lags=acf_pacf_lags, title_suffix=\"(Stationary)\")"
   ]
  },
  {
   "cell_type": "markdown",
   "metadata": {},
   "source": [
    "## 8. Определение Оптимального Лага VAR Модели\n",
    "\n",
    "Подбираем оптимальный порядок лага для модели векторной авторегрессии (VAR), используя информационные критерии (AIC, BIC и др.). Модель VAR описывает каждый временной ряд как линейную функцию от его собственных прошлых значений и прошлых значений других рядов в системе."
   ]
  },
  {
   "cell_type": "code",
   "execution_count": 10,
   "metadata": {},
   "outputs": [
    {
     "name": "stdout",
     "output_type": "stream",
     "text": [
      "Выбор оптимального порядка лагов (max_lags=12) по критериям: ['aic', 'bic']\n",
      "\n",
      "Lag Selection Results Summary:\n",
      "Результаты выбора порядка лагов:\n",
      " VAR Order Selection (* highlights the minimums)  \n",
      "==================================================\n",
      "       AIC         BIC         FPE         HQIC   \n",
      "--------------------------------------------------\n",
      "0       -6.284      -6.235    0.001866      -6.264\n",
      "1       -6.927      -6.780   0.0009813      -6.867\n",
      "2       -7.191      -6.947   0.0007533      -7.092\n",
      "3       -7.211      -6.869   0.0007390      -7.072\n",
      "4       -7.389      -6.950   0.0006184      -7.211\n",
      "5       -7.562      -7.025   0.0005207      -7.344\n",
      "6       -7.706      -7.072   0.0004509      -7.449\n",
      "7       -7.923      -7.190   0.0003636      -7.626\n",
      "8       -8.170      -7.340   0.0002845      -7.833\n",
      "9       -8.250      -7.323   0.0002630      -7.874\n",
      "10      -8.247      -7.222   0.0002644      -7.831\n",
      "11      -8.423      -7.300   0.0002225      -7.967\n",
      "12     -8.587*     -7.366*  0.0001895*     -8.092*\n",
      "--------------------------------------------------\n",
      "\n",
      "Выбранные оптимальные лаги:\n",
      "  AIC: 12\n",
      "  BIC: 12\n",
      "\n",
      "Выбранный оптимальный лаг для VAR модели: 12\n"
     ]
    }
   ],
   "source": [
    "try:\n",
    "    optimal_lags = var_model.select_optimal_lag(\n",
    "        df_stationary, \n",
    "        max_lags=config.MAX_LAG_ORDER, \n",
    "        criteria=config.LAG_SELECTION_CRITERIA\n",
    "    )\n",
    "    \n",
    "    # Выбор лага (например, по BIC, который обычно выбирает более парсимоничные модели)\n",
    "    chosen_lag = optimal_lags.get('bic', -1)\n",
    "    if chosen_lag == -1: # Если BIC не найден, пробуем AIC\n",
    "        chosen_lag = optimal_lags.get('aic', -1)\n",
    "        if chosen_lag != -1:\n",
    "             print(\"\\nBIC не найден, используем лаг по AIC.\")\n",
    "    \n",
    "    if chosen_lag <= 0:\n",
    "        print(f\"\\nПредупреждение: Оптимальный лаг ({chosen_lag}) не является положительным числом. VAR модель не может быть построена. Проверьте данные или увеличьте max_lags.\")\n",
    "        # Можно попробовать установить лаг вручную, например, 1, но это может быть некорректно\n",
    "        # chosen_lag = 1 \n",
    "        # print(\"Устанавливаем лаг = 1 вручную для продолжения анализа (результаты могут быть неточными).\")\n",
    "    else:\n",
    "        print(f\"\\nВыбранный оптимальный лаг для VAR модели: {chosen_lag}\")\n",
    "\n",
    "except Exception as e:\n",
    "    print(f\"Ошибка при выборе оптимального лага: {e}\")\n",
    "    chosen_lag = -1 # Устанавливаем невалидный лаг при ошибке\n",
    "    raise"
   ]
  },
  {
   "cell_type": "markdown",
   "metadata": {},
   "source": [
    "## 9. Построение и Проверка VAR Модели\n",
    "\n",
    "Строим VAR модель с выбранным оптимальным лагом и проверяем ее стабильность. Стабильность означает, что модель не будет генерировать взрывных прогнозов и является условием для корректной интерпретации импульсных откликов и результатов теста Грейнджера."
   ]
  },
  {
   "cell_type": "code",
   "execution_count": 11,
   "metadata": {},
   "outputs": [
    {
     "name": "stdout",
     "output_type": "stream",
     "text": [
      "Подгонка VAR модели с порядком лагов: 12\n",
      "\n",
      "Результаты подгонки VAR модели:\n",
      "  Summary of Regression Results   \n",
      "==================================\n",
      "Model:                         VAR\n",
      "Method:                        OLS\n",
      "Date:           Tue, 01, Apr, 2025\n",
      "Time:                     12:21:47\n",
      "--------------------------------------------------------------------\n",
      "No. of Equations:         2.00000    BIC:                   -7.36640\n",
      "Nobs:                     111.000    HQIC:                  -8.09178\n",
      "Log likelihood:           211.569    FPE:                0.000189486\n",
      "AIC:                     -8.58691    Det(Omega_mle):     0.000126225\n",
      "--------------------------------------------------------------------\n",
      "Results for equation Temperature_Norm\n",
      "=======================================================================================\n",
      "                          coefficient       std. error           t-stat            prob\n",
      "---------------------------------------------------------------------------------------\n",
      "const                        0.009659         0.024040            0.402           0.688\n",
      "L1.Temperature_Norm         -0.623453         0.099540           -6.263           0.000\n",
      "L1.Mortality_Norm            0.522205         0.592787            0.881           0.378\n",
      "L2.Temperature_Norm         -0.672724         0.114488           -5.876           0.000\n",
      "L2.Mortality_Norm            1.091022         0.757943            1.439           0.150\n",
      "L3.Temperature_Norm         -0.611373         0.126894           -4.818           0.000\n",
      "L3.Mortality_Norm            1.061141         0.814529            1.303           0.193\n",
      "L4.Temperature_Norm         -0.638703         0.124263           -5.140           0.000\n",
      "L4.Mortality_Norm            1.751620         0.687931            2.546           0.011\n",
      "L5.Temperature_Norm         -0.663786         0.110725           -5.995           0.000\n",
      "L5.Mortality_Norm            0.919718         0.555649            1.655           0.098\n",
      "L6.Temperature_Norm         -0.694070         0.092158           -7.531           0.000\n",
      "L6.Mortality_Norm            0.257980         0.539577            0.478           0.633\n",
      "L7.Temperature_Norm         -0.841044         0.091780           -9.164           0.000\n",
      "L7.Mortality_Norm            0.483423         0.506715            0.954           0.340\n",
      "L8.Temperature_Norm         -0.828873         0.102937           -8.052           0.000\n",
      "L8.Mortality_Norm            0.505424         0.494241            1.023           0.306\n",
      "L9.Temperature_Norm         -0.637252         0.115407           -5.522           0.000\n",
      "L9.Mortality_Norm            0.252877         0.460702            0.549           0.583\n",
      "L10.Temperature_Norm        -0.512428         0.119340           -4.294           0.000\n",
      "L10.Mortality_Norm           0.053892         0.428925            0.126           0.900\n",
      "L11.Temperature_Norm        -0.442463         0.106110           -4.170           0.000\n",
      "L11.Mortality_Norm           0.407531         0.379804            1.073           0.283\n",
      "L12.Temperature_Norm        -0.274556         0.097122           -2.827           0.005\n",
      "L12.Mortality_Norm           0.687098         0.361681            1.900           0.057\n",
      "=======================================================================================\n",
      "\n",
      "Results for equation Mortality_Norm\n",
      "=======================================================================================\n",
      "                          coefficient       std. error           t-stat            prob\n",
      "---------------------------------------------------------------------------------------\n",
      "const                        0.003620         0.004564            0.793           0.428\n",
      "L1.Temperature_Norm         -0.052889         0.018899           -2.799           0.005\n",
      "L1.Mortality_Norm           -0.878352         0.112546           -7.804           0.000\n",
      "L2.Temperature_Norm         -0.054230         0.021737           -2.495           0.013\n",
      "L2.Mortality_Norm           -0.815783         0.143903           -5.669           0.000\n",
      "L3.Temperature_Norm         -0.038264         0.024092           -1.588           0.112\n",
      "L3.Mortality_Norm           -0.413793         0.154646           -2.676           0.007\n",
      "L4.Temperature_Norm         -0.039412         0.023593           -1.671           0.095\n",
      "L4.Mortality_Norm           -0.279623         0.130610           -2.141           0.032\n",
      "L5.Temperature_Norm         -0.006273         0.021022           -0.298           0.765\n",
      "L5.Mortality_Norm           -0.102672         0.105495           -0.973           0.330\n",
      "L6.Temperature_Norm         -0.003716         0.017497           -0.212           0.832\n",
      "L6.Mortality_Norm           -0.119694         0.102444           -1.168           0.243\n",
      "L7.Temperature_Norm         -0.010178         0.017425           -0.584           0.559\n",
      "L7.Mortality_Norm           -0.090819         0.096205           -0.944           0.345\n",
      "L8.Temperature_Norm         -0.012777         0.019544           -0.654           0.513\n",
      "L8.Mortality_Norm           -0.155687         0.093836           -1.659           0.097\n",
      "L9.Temperature_Norm         -0.044658         0.021911           -2.038           0.042\n",
      "L9.Mortality_Norm            0.001266         0.087469            0.014           0.988\n",
      "L10.Temperature_Norm        -0.010657         0.022658           -0.470           0.638\n",
      "L10.Mortality_Norm          -0.033016         0.081436           -0.405           0.685\n",
      "L11.Temperature_Norm        -0.022018         0.020146           -1.093           0.274\n",
      "L11.Mortality_Norm          -0.157213         0.072110           -2.180           0.029\n",
      "L12.Temperature_Norm        -0.011749         0.018440           -0.637           0.524\n",
      "L12.Mortality_Norm           0.134782         0.068669            1.963           0.050\n",
      "=======================================================================================\n",
      "\n",
      "Correlation matrix of residuals\n",
      "                    Temperature_Norm  Mortality_Norm\n",
      "Temperature_Norm            1.000000       -0.304961\n",
      "Mortality_Norm             -0.304961        1.000000\n",
      "\n",
      "\n",
      "\n",
      "Проверка стабильности VAR модели...\n",
      "Eigenvalues of VAR(1) rep\n",
      "0.9729137822329048\n",
      "0.9729137822329048\n",
      "0.8931653029958767\n",
      "0.8491772394500006\n",
      "0.8491772394500006\n",
      "0.8167344820852974\n",
      "0.8167344820852974\n",
      "0.9704420714202304\n",
      "0.9704420714202304\n",
      "0.8994447463549212\n",
      "0.8994447463549212\n",
      "0.8936255279013826\n",
      "0.8936255279013826\n",
      "0.9273725954491338\n",
      "0.9273725954491338\n",
      "0.9947519980064085\n",
      "0.9947519980064085\n",
      "0.8721126210282066\n",
      "0.8721126210282066\n",
      "0.8238323300368693\n",
      "0.8238323300368693\n",
      "0.7511026277971221\n",
      "0.7511026277971221\n",
      "0.47183127005375225\n",
      "\n",
      "Проверка стабильности модели: Стабильна\n"
     ]
    }
   ],
   "source": [
    "var_results = None\n",
    "is_stable = False\n",
    "\n",
    "if chosen_lag > 0:\n",
    "    try:\n",
    "        var_results = var_model.fit_var_model(df_stationary, lag_order=chosen_lag)\n",
    "        if var_results:\n",
    "            is_stable = var_model.check_model_stability(var_results)\n",
    "            if not is_stable:\n",
    "                print(\"\\nПредупреждение: VAR модель нестабильна! Результаты теста Грейнджера и IRF могут быть некорректными.\")\n",
    "                print(\"Возможные причины: неправильный выбор лага, нестационарность данных (несмотря на тесты), структурные сдвиги.\")\n",
    "        else:\n",
    "            print(\"Не удалось построить VAR модель.\")\n",
    "    except Exception as e:\n",
    "        print(f\"Ошибка при построении или проверке VAR модели: {e}\")\n",
    "else:\n",
    "    print(\"Оптимальный лаг не выбран или некорректен, построение VAR модели пропускается.\")"
   ]
  },
  {
   "cell_type": "markdown",
   "metadata": {},
   "source": [
    "## 10. Тест Грейнджера на Причинно-Следственную Связь\n",
    "\n",
    "Проводим тест Грейнджера, чтобы определить, помогает ли знание прошлых значений одного временного ряда предсказывать будущие значения другого ряда.\n",
    "\n",
    "Формулировка гипотез (для `X -> Y`):\n",
    "-   **H0:** Прошлые значения X **не** помогают предсказывать Y (X не является причиной Y по Грейнджеру).\n",
    "-   **H1:** Прошлые значения X **помогают** предсказывать Y (X является причиной Y по Грейнджеру).\n",
    "\n",
    "Мы ищем низкие p-value (меньше уровня значимости, например, 0.05), чтобы отвергнуть H0 и сделать вывод о наличии причинности по Грейнджеру."
   ]
  },
  {
   "cell_type": "code",
   "execution_count": 12,
   "metadata": {},
   "outputs": [
    {
     "name": "stdout",
     "output_type": "stream",
     "text": [
      "\n",
      "Выполнение тестов причинности Грейнджера (max_lag=12, alpha=0.05)...\n",
      "  Тест: Mortality_Norm вызывает Temperature_Norm по Грейнджеру?\n",
      "    ssr_ftest: p-значение=0.2296 (Не значимо)\n",
      "    params_ftest: p-значение=0.2296 (Не значимо)\n",
      "  Тест: Temperature_Norm вызывает Mortality_Norm по Грейнджеру?\n",
      "    ssr_ftest: p-значение=0.0001 (Значимо)\n",
      "    params_ftest: p-значение=0.0001 (Значимо)\n"
     ]
    },
    {
     "data": {
      "text/markdown": [
       "### Результаты теста Грейнджера:"
      ],
      "text/plain": [
       "<IPython.core.display.Markdown object>"
      ]
     },
     "metadata": {},
     "output_type": "display_data"
    },
    {
     "data": {
      "text/html": [
       "<div>\n",
       "<style scoped>\n",
       "    .dataframe tbody tr th:only-of-type {\n",
       "        vertical-align: middle;\n",
       "    }\n",
       "\n",
       "    .dataframe tbody tr th {\n",
       "        vertical-align: top;\n",
       "    }\n",
       "\n",
       "    .dataframe thead th {\n",
       "        text-align: right;\n",
       "    }\n",
       "</style>\n",
       "<table border=\"1\" class=\"dataframe\">\n",
       "  <thead>\n",
       "    <tr style=\"text-align: right;\">\n",
       "      <th></th>\n",
       "      <th>Effect</th>\n",
       "      <th>Lag</th>\n",
       "      <th>SSR_p_value</th>\n",
       "      <th>SSR_Significant</th>\n",
       "      <th>Params_p_value</th>\n",
       "      <th>Params_Significant</th>\n",
       "      <th>Details</th>\n",
       "    </tr>\n",
       "  </thead>\n",
       "  <tbody>\n",
       "    <tr>\n",
       "      <th>0</th>\n",
       "      <td>Mortality_Norm -&gt; Temperature_Norm</td>\n",
       "      <td>12</td>\n",
       "      <td>0.2296</td>\n",
       "      <td>False</td>\n",
       "      <td>0.2296</td>\n",
       "      <td>False</td>\n",
       "      <td>F=1.31, df=(86, 12)</td>\n",
       "    </tr>\n",
       "    <tr>\n",
       "      <th>1</th>\n",
       "      <td>Temperature_Norm -&gt; Mortality_Norm</td>\n",
       "      <td>12</td>\n",
       "      <td>0.0001</td>\n",
       "      <td>True</td>\n",
       "      <td>0.0001</td>\n",
       "      <td>True</td>\n",
       "      <td>F=3.89, df=(86, 12)</td>\n",
       "    </tr>\n",
       "  </tbody>\n",
       "</table>\n",
       "</div>"
      ],
      "text/plain": [
       "                               Effect  Lag SSR_p_value  SSR_Significant  \\\n",
       "0  Mortality_Norm -> Temperature_Norm   12      0.2296            False   \n",
       "1  Temperature_Norm -> Mortality_Norm   12      0.0001             True   \n",
       "\n",
       "  Params_p_value  Params_Significant              Details  \n",
       "0         0.2296               False  F=1.31, df=(86, 12)  \n",
       "1         0.0001                True  F=3.89, df=(86, 12)  "
      ]
     },
     "metadata": {},
     "output_type": "display_data"
    }
   ],
   "source": [
    "granger_summary = None\n",
    "if var_results:\n",
    "    try:\n",
    "        # Используем лаг, с которым была построена модель VAR\n",
    "        granger_lag = var_results.k_ar \n",
    "        granger_results_dict = granger.perform_granger_causality_test(\n",
    "            var_results, \n",
    "            max_lag=granger_lag, \n",
    "            significance_level=config.GRANGER_SIGNIFICANCE_LEVEL\n",
    "        )\n",
    "        \n",
    "        if granger_results_dict:\n",
    "            granger_summary = granger.summarize_granger_results(granger_results_dict)\n",
    "            display(Markdown(\"### Результаты теста Грейнджера:\"))\n",
    "            display(granger_summary)\n",
    "        else:\n",
    "            print(\"Не удалось получить результаты теста Грейнджера.\")\n",
    "\n",
    "    except Exception as e:\n",
    "        print(f\"Ошибка при выполнении теста Грейнджера: {e}\")\n",
    "else:\n",
    "    print(\"VAR модель не была успешно построена, тест Грейнджера пропускается.\")"
   ]
  },
  {
   "cell_type": "markdown",
   "metadata": {},
   "source": [
    "## 11. Визуализация Диагностик Модели\n",
    "\n",
    "Строим диагностические графики для анализа динамики взаимодействия между переменными:\n",
    "\n",
    "-   **Импульсные Отклики (Impulse Response Functions - IRF):** Показывают реакцию одной переменной на шок (неожиданное изменение) в другой переменной на протяжении нескольких периодов времени.\n",
    "-   **Декомпозиция Дисперсии Ошибок Прогноза (Forecast Error Variance Decomposition - FEVD):** Показывает, какая доля дисперсии ошибки прогноза каждой переменной объясняется шоками в других переменных (включая саму себя) на разных горизонтах прогнозирования."
   ]
  },
  {
   "cell_type": "code",
   "execution_count": 13,
   "metadata": {},
   "outputs": [
    {
     "data": {
      "text/markdown": [
       "### Графики Импульсных Откликов (IRF):"
      ],
      "text/plain": [
       "<IPython.core.display.Markdown object>"
      ]
     },
     "metadata": {},
     "output_type": "display_data"
    },
    {
     "name": "stdout",
     "output_type": "stream",
     "text": [
      "Построение графиков функций импульсной характеристики (периоды: 24)...\n",
      "  Построение графиков всех IRF.\n"
     ]
    },
    {
     "data": {
      "image/png": "[encoded data removed]",
      "text/plain": [
       "<Figure size 1200x800 with 4 Axes>"
      ]
     },
     "metadata": {},
     "output_type": "display_data"
    },
    {
     "data": {
      "text/markdown": [
       "### Графики Декомпозиции Дисперсии Ошибок Прогноза (FEVD):"
      ],
      "text/plain": [
       "<IPython.core.display.Markdown object>"
      ]
     },
     "metadata": {},
     "output_type": "display_data"
    },
    {
     "name": "stdout",
     "output_type": "stream",
     "text": [
      "Вычисление и построение графика FEVD (Тип: bar, Периоды: 24)...\n",
      "FEVD for Temperature_Norm\n",
      "      Temperature_Norm  Mortality_Norm\n",
      "0             1.000000        0.000000\n",
      "1             0.993792        0.006208\n",
      "2             0.992252        0.007748\n",
      "3             0.987502        0.012498\n",
      "4             0.978047        0.021953\n",
      "5             0.956261        0.043739\n",
      "6             0.950451        0.049549\n",
      "7             0.933338        0.066662\n",
      "8             0.932389        0.067611\n",
      "9             0.929811        0.070189\n",
      "10            0.928947        0.071053\n",
      "11            0.919551        0.080449\n",
      "12            0.919807        0.080193\n",
      "13            0.917838        0.082162\n",
      "14            0.915506        0.084494\n",
      "15            0.915429        0.084571\n",
      "16            0.913621        0.086379\n",
      "17            0.912598        0.087402\n",
      "18            0.904016        0.095984\n",
      "19            0.903280        0.096720\n",
      "20            0.902736        0.097264\n",
      "21            0.903094        0.096906\n",
      "22            0.904470        0.095530\n",
      "23            0.901976        0.098024\n",
      "\n",
      "FEVD for Mortality_Norm\n",
      "      Temperature_Norm  Mortality_Norm\n",
      "0             0.093001        0.906999\n",
      "1             0.054778        0.945222\n",
      "2             0.067709        0.932291\n",
      "3             0.067187        0.932813\n",
      "4             0.069729        0.930271\n",
      "5             0.084455        0.915545\n",
      "6             0.084798        0.915202\n",
      "7             0.091519        0.908481\n",
      "8             0.095858        0.904142\n",
      "9             0.112312        0.887688\n",
      "10            0.123246        0.876754\n",
      "11            0.122042        0.877958\n",
      "12            0.112136        0.887864\n",
      "13            0.106332        0.893668\n",
      "14            0.106666        0.893334\n",
      "15            0.105833        0.894167\n",
      "16            0.104734        0.895266\n",
      "17            0.107498        0.892502\n",
      "18            0.107852        0.892148\n",
      "19            0.107953        0.892047\n",
      "20            0.108423        0.891577\n",
      "21            0.114937        0.885063\n",
      "22            0.116975        0.883025\n",
      "23            0.115954        0.884046\n",
      "\n",
      "\n"
     ]
    },
    {
     "data": {
      "image/png": "[encoded data removed]",
      "text/plain": [
       "<Figure size 1200x800 with 2 Axes>"
      ]
     },
     "metadata": {},
     "output_type": "display_data"
    }
   ],
   "source": [
    "if var_results:\n",
    "    plot_periods = 24 # Горизонт для IRF и FEVD\n",
    "    display(Markdown(\"### Графики Импульсных Откликов (IRF):\"))\n",
    "    try:\n",
    "        diagnostics.plot_impulse_response(var_results, periods=plot_periods)\n",
    "    except Exception as e:\n",
    "        print(f\"Ошибка при построении IRF: {e}\")\n",
    "    \n",
    "    display(Markdown(\"### Графики Декомпозиции Дисперсии Ошибок Прогноза (FEVD):\"))\n",
    "    try:\n",
    "        diagnostics.plot_fevd(var_results, periods=plot_periods)\n",
    "    except Exception as e:\n",
    "        print(f\"Ошибка при построении FEVD: {e}\")\n",
    "else:\n",
    "    print(\"VAR модель не была успешно построена, диагностические графики пропускаются.\")"
   ]
  },
  {
   "cell_type": "markdown",
   "metadata": {},
   "source": [
    "**1. Верхний график (Заголовок: Temperature_Norm):**\n",
    "\n",
    "*   **Что показывает:** Этот график анализирует **дисперсию ошибки прогноза для переменной `Temperature_Norm`**.\n",
    "*   **Ось X:** Горизонт прогнозирования (количество шагов/месяцев вперед, от 0 до ~24).\n",
    "*   **Ось Y:** Доля дисперсии (от 0 до 1, или 0% до 100%).\n",
    "*   **Столбцы:** Каждый столбец соответствует определенному горизонту прогноза. Высота каждого столбца всегда равна 1 (100%).\n",
    "*   **Цвета в столбцах:**\n",
    "    *   **Черный (Temperature_Norm):** Показывает, какая доля ошибки прогноза температуры на данном горизонте объясняется *собственными* неожиданными шоками (изменениями) температуры в прошлом.\n",
    "    *   **Серый (Mortality_Norm):** Показывает, какая доля ошибки прогноза температуры на данном горизонте объясняется неожиданными шоками *смертности* в прошлом.\n",
    "*   **Интерпретация:** Мы видим, что **практически вся высота каждого столбца (почти 100%) занята черным цветом** на всех горизонтах прогноза. Серый сегмент очень мал. Это означает, что **неопределенность в прогнозе будущей температуры почти полностью объясняется её собственной прошлой динамикой и случайными колебаниями.** Шок (неожиданное изменение) в смертности практически не вносит вклада в ошибку прогноза температуры в рамках этой модели. Температура ведет себя как экзогенная переменная по отношению к смертности.\n",
    "\n",
    "**2. Нижний график (Заголовок: Mortality_Norm):**\n",
    "\n",
    "*   **Что показывает:** Этот график анализирует **дисперсию ошибки прогноза для переменной `Mortality_Norm`**.\n",
    "*   **Оси X и Y:** Аналогичны верхнему графику.\n",
    "*   **Цвета в столбцах:**\n",
    "    *   **Черный (Temperature_Norm):** Показывает, какая доля ошибки прогноза смертности на данном горизонте объясняется неожиданными шоками *температуры* в прошлом.\n",
    "    *   **Серый (Mortality_Norm):** Показывает, какая доля ошибки прогноза смертности на данном горизонте объясняется *собственными* неожиданными шоками смертности в прошлом.\n",
    "*   **Интерпретация:** Здесь мы видим другую картину. **Основная часть каждого столбца (около 90-95%) занята серым цветом**, что означает, что большая часть неопределенности в прогнозе смертности объясняется её собственной прошлой динамикой. Однако, **присутствует небольшой, но заметный черный сегмент (около 5-10%)**, который остается относительно стабильным на разных горизонтах прогноза. Это говорит о том, что **неожиданные шоки температуры вносят небольшой, но постоянный вклад в ошибку прогноза смертности.**\n",
    "\n",
    "**Общий вывод из графика:**\n",
    "*   Температура в данной модели в значительной степени независима от прошлых шоков смертности.\n",
    "*   Смертность в основном определяется своей собственной историей, но прошлые неожиданные изменения температуры оказывают некоторое (хоть и небольшое) влияние на предсказуемость будущей смертности. Это может указывать на слабую причинно-следственную связь по Грейнджеру от температуры к смертности, но не наоборот."
   ]
  },
  {
   "cell_type": "markdown",
   "metadata": {},
   "source": [
    "# 12. Выводы и Интерпретация"
   ]
  },
  {
   "cell_type": "markdown",
   "metadata": {},
   "source": [
    "## Выводы по Смертность и Температура (Temperature -> Mortality)\n",
    "\n",
    "На основе проведенного анализа причинно-следственных связей по Грейнджеру между среднемесячной температурой и ежемесячной смертностью в Москве (с января 2010 по апрель 2020), можно сделать следующие выводы:\n",
    "\n",
    "1.  **Стационарность:**\n",
    "    *   Исходные временные ряды (после нормализации: z-score для температуры, log для смертности) оказались **нестационарными** по результатам тестов ADF и KPSS.\n",
    "    *   Для достижения стационарности потребовалось применить **дифференцирование первого порядка (d=1)**. После этой операции оба ряда стали стационарными, что является необходимым условием для корректного применения VAR-модели и теста Грейнджера.\n",
    "\n",
    "2.  **VAR Модель:**\n",
    "    *   На основе информационных критериев AIC и BIC был выбран **оптимальный лаг p=12** для модели векторной авторегрессии (VAR). Такой высокий порядок лага для месячных данных может указывать на наличие значимых сезонных (годовых) зависимостей или долгосрочных эффектов в динамике температуры и смертности.\n",
    "    *   Построенная модель VAR(12) прошла проверку на **стабильность**. Это означает, что модель адекватна и не будет генерировать \"взрывных\" прогнозов, а результаты теста Грейнджера, импульсных откликов (IRF) и декомпозиции дисперсии (FEVD) являются интерпретируемыми.\n",
    "\n",
    "3.  **Причинность по Грейнджеру (Уровень значимости α = 0.05):**\n",
    "    *   **Влияние Температуры на Смертность (Temperature\\_Norm -> Mortality\\_Norm):**\n",
    "        *   **Результат:** p-value = 0.0001 (меньше 0.05).\n",
    "        *   **Интерпретация:** Нулевая гипотеза (H0: \"Температура НЕ является причиной смертности по Грейнджеру\") **отвергается**. Это означает, что прошлые значения температуры (за период до 12 месяцев назад) содержат статистически значимую информацию, которая помогает предсказывать будущие значения смертности, помимо той информации, которая уже содержится в прошлых значениях самой смертности.\n",
    "    *   **Влияние Смертности на Температуру (Mortality\\_Norm -> Temperature\\_Norm):**\n",
    "        *   **Результат:** p-value = 0.2296 (больше 0.05).\n",
    "        *   **Интерпретация:** Нулевая гипотеза (H0: \"Смертность НЕ является причиной температуры по Грейнджеру\") **не отвергается**. Это означает, что прошлые значения смертности не предоставляют статистически значимой дополнительной информации для предсказания будущих значений температуры.\n",
    "    *   **Вывод по причинности:** Обнаружена **однонаправленная причинно-следственная связь по Грейнджеру**, идущая от температуры к смертности. Обратная связь статистически не значима.\n",
    "\n",
    "4.  **IRF и FEVD (Интерпретация на основе стабильности модели и результатов Грейнджера):**\n",
    "    *   **Импульсные Отклики (IRF):** Поскольку модель стабильна и обнаружена связь Temp -> Mort, график IRF должен показывать статистически значимую реакцию (положительную или отрицательную, в зависимости от знака коэффициентов и лага) показателя смертности на неожиданное изменение (шок) в температуре в прошлых периодах. Реакция температуры на шок в смертности, скорее всего, будет незначимой (доверительный интервал включает ноль). Для детального анализа формы и длительности реакции нужно смотреть сами графики IRF.\n",
    "    *   **Декомпозиция Дисперсии (FEVD):** График FEVD для смертности должен показать, что доля дисперсии ошибки прогноза, объясняемая шоками температуры, вероятно, увеличивается с увеличением горизонта прогнозирования и становится заметной. В то же время, для температуры доля дисперсии, объясняемая шоками смертности, должна оставаться низкой на всех горизонтах.\n",
    "\n",
    "5.  **Общий вывод:**\n",
    "    Анализ предоставляет статистические доказательства в пользу гипотезы о том, что **изменения среднемесячной температуры в Москве в прошлом влияют на последующие изменения уровня ежемесячной смертности** в период с 2010 по 2020 год, в контексте предсказательной способности по Грейнджеру. Противоположное влияние (смертности на температуру) статистически не подтверждается, что соответствует логике изучаемых явлений. Этот результат подчеркивает важность температурных факторов для общественного здоровья и демографических показателей в городе.\n",
    "\n",
    "**Как читать результаты:**\n",
    "\n",
    "*   **Стационарность:** Важно убедиться, что ряды стационарны (или приведены к стационарности) перед тестом Грейнджера. Если нет - результаты ненадежны.\n",
    "*   **VAR лаг (p):** Показывает, сколько прошлых периодов учитывается в модели. Лаг 12 означает учет годовой истории.\n",
    "*   **Стабильность VAR:** Если модель стабильна, тест Грейнджера и IRF/FEVD корректны. Если нет - выводы делать нельзя.\n",
    "*   **P-value (тест Грейнджера):** Если p-value < 0.05 (или выбранного уровня значимости), отвергаем H0 и заключаем, что \"X является причиной Y по Грейнджеру\". Если p-value >= 0.05, не отвергаем H0, т.е. нет статистических оснований утверждать о причинности по Грейнджеру.\n",
    "*   **IRF:** Показывает (+/-) реакцию одной переменной на единичный шок в другой на N периодов вперед. Доверительные интервалы показывают значимость реакции.\n",
    "*   **FEVD:** Показывает в % вклад шоков одной переменной в ошибку прогноза другой переменной на N периодов вперед."
   ]
  }
 ],
 "metadata": {
  "kernelspec": {
   "display_name": ".venv",
   "language": "python",
   "name": "python3"
  },
  "language_info": {
   "codemirror_mode": {
    "name": "ipython",
    "version": 3
   },
   "file_extension": ".py",
   "mimetype": "text/x-python",
   "name": "python",
   "nbconvert_exporter": "python",
   "pygments_lexer": "ipython3",
   "version": "3.13.1"
  }
 },
 "nbformat": 4,
 "nbformat_minor": 4
}
